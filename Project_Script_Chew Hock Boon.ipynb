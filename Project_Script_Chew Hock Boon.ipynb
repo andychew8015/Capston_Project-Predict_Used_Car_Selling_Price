{
 "cells": [
  {
   "cell_type": "markdown",
   "metadata": {},
   "source": [
    "### PROBLEM STATEMENT\n",
    "\n",
    "Due to the reduction of COE quota, we had seen an increase in the COE premium. As a result, more buyers are turning to the used car market. But the prices for a particular make and model can have a lot of difference in the used car market due to the a few reasons like:\n",
    "- How old is the car\n",
    "- Mileage\n",
    "- Number of owners etc\n",
    "\n",
    "For this project, we would like to train a model to predict the price of the car so as to let buyers have a guide on how much is the car that they are looking. Here, we will only focus on normal scheme cars."
   ]
  },
  {
   "cell_type": "code",
   "execution_count": 1,
   "metadata": {},
   "outputs": [
    {
     "name": "stderr",
     "output_type": "stream",
     "text": [
      "C:\\Users\\andy\\anaconda3\\lib\\site-packages\\sklearn\\utils\\deprecation.py:143: FutureWarning: The sklearn.utils.testing module is  deprecated in version 0.22 and will be removed in version 0.24. The corresponding classes / functions should instead be imported from sklearn.utils. Anything that cannot be imported from sklearn.utils is now part of the private API.\n",
      "  warnings.warn(message, FutureWarning)\n"
     ]
    }
   ],
   "source": [
    "import numpy as np\n",
    "import pandas as pd\n",
    "import matplotlib.pyplot as plt\n",
    "import seaborn as sns\n",
    "%matplotlib inline\n",
    "from sklearn.model_selection import train_test_split, GridSearchCV\n",
    "from sklearn.preprocessing import StandardScaler\n",
    "from sklearn.metrics import r2_score, mean_absolute_error, mean_squared_error\n",
    "from sklearn.ensemble import ExtraTreesRegressor, GradientBoostingRegressor\n",
    "from lazypredict.Supervised import LazyRegressor\n",
    "from math import sqrt\n",
    "import warnings\n",
    "warnings.filterwarnings('ignore')"
   ]
  },
  {
   "cell_type": "code",
   "execution_count": 2,
   "metadata": {},
   "outputs": [],
   "source": [
    "rmse = []\n",
    "mae = []\n",
    "r_2 = []\n",
    "def metric_score(y_test, y_pred):\n",
    "    RMSE = float(format(np.sqrt(mean_squared_error(y_test, y_pred)) , '.3f'))\n",
    "    MAE = mean_absolute_error(y_test, y_pred)\n",
    "    r2 = r2_score(y_test, y_pred)\n",
    "    rmse.append(RMSE)\n",
    "    mae.append(MAE)\n",
    "    r_2.append(r2)\n",
    "    print('RMSE = ', RMSE, '\\nMAE =', MAE, '\\nR2 =', r2)"
   ]
  },
  {
   "cell_type": "markdown",
   "metadata": {},
   "source": [
    "### Data Understanding\n",
    "\n",
    "Import the dataset that we scaped from https://www.stcars.sg/singapore-car/used-cars/search/ (the web scrapping code is in another notebook).\n",
    "\n",
    "We had a quick glance at the dataset and saw that there are some unexpected missing values stated as **\" - \"**. We will set them as **NaN** first when importing the dataset using the parameters \"na_values\"' in pd.read_csv( )."
   ]
  },
  {
   "cell_type": "code",
   "execution_count": 3,
   "metadata": {},
   "outputs": [
    {
     "data": {
      "text/html": [
       "<div>\n",
       "<style scoped>\n",
       "    .dataframe tbody tr th:only-of-type {\n",
       "        vertical-align: middle;\n",
       "    }\n",
       "\n",
       "    .dataframe tbody tr th {\n",
       "        vertical-align: top;\n",
       "    }\n",
       "\n",
       "    .dataframe thead th {\n",
       "        text-align: right;\n",
       "    }\n",
       "</style>\n",
       "<table border=\"1\" class=\"dataframe\">\n",
       "  <thead>\n",
       "    <tr style=\"text-align: right;\">\n",
       "      <th></th>\n",
       "      <th>make_model</th>\n",
       "      <th>Price</th>\n",
       "      <th>Registration Date</th>\n",
       "      <th>COE Remaining</th>\n",
       "      <th>Manufactured</th>\n",
       "      <th>Mileage</th>\n",
       "      <th>No. of Owners</th>\n",
       "      <th>Transmission</th>\n",
       "      <th>Engine Capacity</th>\n",
       "      <th>fuel_type</th>\n",
       "      <th>COE</th>\n",
       "      <th>OMV</th>\n",
       "      <th>Paper Value</th>\n",
       "      <th>Depreciation</th>\n",
       "      <th>Type</th>\n",
       "    </tr>\n",
       "  </thead>\n",
       "  <tbody>\n",
       "    <tr>\n",
       "      <th>0</th>\n",
       "      <td>MERCEDES-BENZ C-CLASS C200K (COE TILL 10/2028)</td>\n",
       "      <td>$63,800</td>\n",
       "      <td>19-Dec-2008</td>\n",
       "      <td>7yrs 5mths 13days</td>\n",
       "      <td>2008</td>\n",
       "      <td>165,000 km</td>\n",
       "      <td>4</td>\n",
       "      <td>Auto</td>\n",
       "      <td>1,796 cc</td>\n",
       "      <td>NaN</td>\n",
       "      <td>$32,279</td>\n",
       "      <td>$43,106</td>\n",
       "      <td>$24,081</td>\n",
       "      <td>$8,550 / year</td>\n",
       "      <td>Luxury Sedan</td>\n",
       "    </tr>\n",
       "    <tr>\n",
       "      <th>1</th>\n",
       "      <td>NISSAN X-TRAIL 2.0A PREMIUM 7-SEATER SUNROOF</td>\n",
       "      <td>$81,800</td>\n",
       "      <td>21-Mar-2017</td>\n",
       "      <td>5yrs 10mths 2days</td>\n",
       "      <td>2016</td>\n",
       "      <td>74,000 km</td>\n",
       "      <td>1</td>\n",
       "      <td>Auto</td>\n",
       "      <td>1,997 cc</td>\n",
       "      <td>NaN</td>\n",
       "      <td>$53,300</td>\n",
       "      <td>$23,955</td>\n",
       "      <td>$50,286</td>\n",
       "      <td>$11,810 / year</td>\n",
       "      <td>SUV</td>\n",
       "    </tr>\n",
       "    <tr>\n",
       "      <th>2</th>\n",
       "      <td>NISSAN ELGRAND 2.5A HIGHWAY STAR</td>\n",
       "      <td>$88,000</td>\n",
       "      <td>03-Aug-2016</td>\n",
       "      <td>5yrs 2mths 15days</td>\n",
       "      <td>2016</td>\n",
       "      <td>82,225 km</td>\n",
       "      <td>1</td>\n",
       "      <td>Auto</td>\n",
       "      <td>2,488 cc</td>\n",
       "      <td>NaN</td>\n",
       "      <td>$57,501</td>\n",
       "      <td>$34,974</td>\n",
       "      <td>$60,687</td>\n",
       "      <td>$12,950 / year</td>\n",
       "      <td>MPV</td>\n",
       "    </tr>\n",
       "    <tr>\n",
       "      <th>3</th>\n",
       "      <td>MERCEDES-BENZ CLS-CLASS CLS450 MILD HYBRID AMG...</td>\n",
       "      <td>$367,988</td>\n",
       "      <td>30-Oct-2020</td>\n",
       "      <td>9yrs 5mths 11days</td>\n",
       "      <td>2020</td>\n",
       "      <td>652 km</td>\n",
       "      <td>1</td>\n",
       "      <td>Auto</td>\n",
       "      <td>2,999 cc</td>\n",
       "      <td>Petrol-Electric</td>\n",
       "      <td>$32,801</td>\n",
       "      <td>$83,552</td>\n",
       "      <td>$122,808</td>\n",
       "      <td>$32,440 / year</td>\n",
       "      <td>Luxury Sedan</td>\n",
       "    </tr>\n",
       "    <tr>\n",
       "      <th>4</th>\n",
       "      <td>TOYOTA HARRIER 2.4A G (COE TILL 09/2029)</td>\n",
       "      <td>$58,500</td>\n",
       "      <td>23-Sep-2009</td>\n",
       "      <td>8yrs 4mths 4days</td>\n",
       "      <td>2008</td>\n",
       "      <td>174,000 km</td>\n",
       "      <td>5</td>\n",
       "      <td>Auto</td>\n",
       "      <td>2,362 cc</td>\n",
       "      <td>NaN</td>\n",
       "      <td>$37,941</td>\n",
       "      <td>$27,778</td>\n",
       "      <td>$31,694</td>\n",
       "      <td>$7,000 / year</td>\n",
       "      <td>SUV</td>\n",
       "    </tr>\n",
       "  </tbody>\n",
       "</table>\n",
       "</div>"
      ],
      "text/plain": [
       "                                          make_model        Price  \\\n",
       "0     MERCEDES-BENZ C-CLASS C200K (COE TILL 10/2028)   $63,800      \n",
       "1       NISSAN X-TRAIL 2.0A PREMIUM 7-SEATER SUNROOF   $81,800      \n",
       "2                   NISSAN ELGRAND 2.5A HIGHWAY STAR   $88,000      \n",
       "3  MERCEDES-BENZ CLS-CLASS CLS450 MILD HYBRID AMG...  $367,988      \n",
       "4           TOYOTA HARRIER 2.4A G (COE TILL 09/2029)   $58,500      \n",
       "\n",
       "  Registration Date      COE Remaining  Manufactured     Mileage  \\\n",
       "0       19-Dec-2008  7yrs 5mths 13days          2008  165,000 km   \n",
       "1       21-Mar-2017  5yrs 10mths 2days          2016   74,000 km   \n",
       "2       03-Aug-2016  5yrs 2mths 15days          2016   82,225 km   \n",
       "3       30-Oct-2020  9yrs 5mths 11days          2020      652 km   \n",
       "4       23-Sep-2009   8yrs 4mths 4days          2008  174,000 km   \n",
       "\n",
       "  No. of Owners Transmission Engine Capacity        fuel_type      COE  \\\n",
       "0             4         Auto        1,796 cc              NaN  $32,279   \n",
       "1             1         Auto        1,997 cc              NaN  $53,300   \n",
       "2             1         Auto        2,488 cc              NaN  $57,501   \n",
       "3             1         Auto        2,999 cc  Petrol-Electric  $32,801   \n",
       "4             5         Auto        2,362 cc              NaN  $37,941   \n",
       "\n",
       "       OMV Paper Value    Depreciation          Type  \n",
       "0  $43,106     $24,081   $8,550 / year  Luxury Sedan  \n",
       "1  $23,955     $50,286  $11,810 / year           SUV  \n",
       "2  $34,974     $60,687  $12,950 / year           MPV  \n",
       "3  $83,552    $122,808  $32,440 / year  Luxury Sedan  \n",
       "4  $27,778     $31,694   $7,000 / year           SUV  "
      ]
     },
     "execution_count": 3,
     "metadata": {},
     "output_type": "execute_result"
    }
   ],
   "source": [
    "df = pd.read_csv('Dataset_Chew Hock Boon.csv', na_values='-')\n",
    "\n",
    "df.head()"
   ]
  },
  {
   "cell_type": "code",
   "execution_count": 4,
   "metadata": {
    "scrolled": true
   },
   "outputs": [
    {
     "name": "stdout",
     "output_type": "stream",
     "text": [
      "<class 'pandas.core.frame.DataFrame'>\n",
      "RangeIndex: 7244 entries, 0 to 7243\n",
      "Data columns (total 15 columns):\n",
      " #   Column             Non-Null Count  Dtype \n",
      "---  ------             --------------  ----- \n",
      " 0   make_model         7244 non-null   object\n",
      " 1   Price              7244 non-null   object\n",
      " 2   Registration Date  7244 non-null   object\n",
      " 3   COE Remaining      7244 non-null   object\n",
      " 4   Manufactured       7244 non-null   int64 \n",
      " 5   Mileage            7244 non-null   object\n",
      " 6   No. of Owners      7244 non-null   object\n",
      " 7   Transmission       7244 non-null   object\n",
      " 8   Engine Capacity    7244 non-null   object\n",
      " 9   fuel_type          732 non-null    object\n",
      " 10  COE                7244 non-null   object\n",
      " 11  OMV                7244 non-null   object\n",
      " 12  Paper Value        7244 non-null   object\n",
      " 13  Depreciation       7244 non-null   object\n",
      " 14  Type               7244 non-null   object\n",
      "dtypes: int64(1), object(14)\n",
      "memory usage: 849.0+ KB\n"
     ]
    }
   ],
   "source": [
    "df.info()"
   ]
  },
  {
   "cell_type": "markdown",
   "metadata": {},
   "source": [
    "There are 7244 rows and 15 features:\n",
    "- **make_model** – make and model of the car\n",
    "- **Price** – price of the car (our label)\n",
    "- **Registration Date** – first registration date of the car\n",
    "- **COE Remaining** – remaining COE of the car\n",
    "- **Manufactured** – year the car is manufactured\n",
    "- **Mileage** – mileage of the car in km\n",
    "- **No. of Owners** – car is owned by how many owner before\n",
    "- **Transmission** – auto or manual gear\n",
    "- **Engine Capacity** – engine capacity of the car in c.c\n",
    "- **fuel_type** – petrol, diesel, petrol – electric\n",
    "- **COE** – COE premium paid for the car when first registered\n",
    "- **OMV** – open market value of the car\n",
    "- **Paper Value** – the amount you get if the car is deregistered\n",
    "- **Depreciation** – how much the car depreciate per year\n",
    "- **Type** – type of the car (luxury sedan, MPV, SUV etc)\n",
    "\n",
    "All features are in data type \"object\" except **Maunfactured**. We will need to convert some of the features to the data type that we need.\n",
    "\n",
    "Check for duplicates data and remove them."
   ]
  },
  {
   "cell_type": "code",
   "execution_count": 5,
   "metadata": {},
   "outputs": [
    {
     "name": "stdout",
     "output_type": "stream",
     "text": [
      "Duplicated data: 2015\n"
     ]
    }
   ],
   "source": [
    "print('Duplicated data:', df.duplicated().sum())"
   ]
  },
  {
   "cell_type": "code",
   "execution_count": 6,
   "metadata": {},
   "outputs": [
    {
     "data": {
      "text/plain": [
       "(5229, 15)"
      ]
     },
     "execution_count": 6,
     "metadata": {},
     "output_type": "execute_result"
    }
   ],
   "source": [
    "df.drop_duplicates(inplace=True)\n",
    "\n",
    "df.shape"
   ]
  },
  {
   "cell_type": "code",
   "execution_count": 7,
   "metadata": {},
   "outputs": [],
   "source": [
    "df.reset_index(drop=True, inplace=True)      # reset the indexes"
   ]
  },
  {
   "cell_type": "markdown",
   "metadata": {},
   "source": [
    "We left with 5229 rows after removing duplicates rows.\n",
    "\n",
    "How many **\"NaN\"** values in the dataset?"
   ]
  },
  {
   "cell_type": "code",
   "execution_count": 8,
   "metadata": {},
   "outputs": [
    {
     "data": {
      "text/plain": [
       "make_model              0\n",
       "Price                   0\n",
       "Registration Date       0\n",
       "COE Remaining           0\n",
       "Manufactured            0\n",
       "Mileage                 0\n",
       "No. of Owners           0\n",
       "Transmission            0\n",
       "Engine Capacity         0\n",
       "fuel_type            4700\n",
       "COE                     0\n",
       "OMV                     0\n",
       "Paper Value             0\n",
       "Depreciation            0\n",
       "Type                    0\n",
       "dtype: int64"
      ]
     },
     "execution_count": 8,
     "metadata": {},
     "output_type": "execute_result"
    }
   ],
   "source": [
    "df.isna().sum()"
   ]
  },
  {
   "cell_type": "markdown",
   "metadata": {},
   "source": [
    "### Data Cleaning\n",
    "**1. Handle Missing Values**\n",
    "\n",
    "Only **fuel_type** has missing values."
   ]
  },
  {
   "cell_type": "code",
   "execution_count": 9,
   "metadata": {},
   "outputs": [
    {
     "data": {
      "text/plain": [
       "array([nan, 'Petrol-Electric', 'Diesel'], dtype=object)"
      ]
     },
     "execution_count": 9,
     "metadata": {},
     "output_type": "execute_result"
    }
   ],
   "source": [
    "df.fuel_type.unique()"
   ]
  },
  {
   "cell_type": "markdown",
   "metadata": {},
   "source": [
    "**fuel_type** shows whether the car is using petrol-electronic or diesel. So we can rightly assume that the missing values represent the car is using petrol. We will replace the missing values with \"Petrol\"."
   ]
  },
  {
   "cell_type": "code",
   "execution_count": 10,
   "metadata": {
    "scrolled": true
   },
   "outputs": [
    {
     "data": {
      "text/html": [
       "<div>\n",
       "<style scoped>\n",
       "    .dataframe tbody tr th:only-of-type {\n",
       "        vertical-align: middle;\n",
       "    }\n",
       "\n",
       "    .dataframe tbody tr th {\n",
       "        vertical-align: top;\n",
       "    }\n",
       "\n",
       "    .dataframe thead th {\n",
       "        text-align: right;\n",
       "    }\n",
       "</style>\n",
       "<table border=\"1\" class=\"dataframe\">\n",
       "  <thead>\n",
       "    <tr style=\"text-align: right;\">\n",
       "      <th></th>\n",
       "      <th>0</th>\n",
       "      <th>1</th>\n",
       "      <th>2</th>\n",
       "      <th>3</th>\n",
       "      <th>4</th>\n",
       "    </tr>\n",
       "  </thead>\n",
       "  <tbody>\n",
       "    <tr>\n",
       "      <th>make_model</th>\n",
       "      <td>MERCEDES-BENZ C-CLASS C200K (COE TILL 10/2028)</td>\n",
       "      <td>NISSAN X-TRAIL 2.0A PREMIUM 7-SEATER SUNROOF</td>\n",
       "      <td>NISSAN ELGRAND 2.5A HIGHWAY STAR</td>\n",
       "      <td>MERCEDES-BENZ CLS-CLASS CLS450 MILD HYBRID AMG...</td>\n",
       "      <td>TOYOTA HARRIER 2.4A G (COE TILL 09/2029)</td>\n",
       "    </tr>\n",
       "    <tr>\n",
       "      <th>Price</th>\n",
       "      <td>$63,800</td>\n",
       "      <td>$81,800</td>\n",
       "      <td>$88,000</td>\n",
       "      <td>$367,988</td>\n",
       "      <td>$58,500</td>\n",
       "    </tr>\n",
       "    <tr>\n",
       "      <th>Registration Date</th>\n",
       "      <td>19-Dec-2008</td>\n",
       "      <td>21-Mar-2017</td>\n",
       "      <td>03-Aug-2016</td>\n",
       "      <td>30-Oct-2020</td>\n",
       "      <td>23-Sep-2009</td>\n",
       "    </tr>\n",
       "    <tr>\n",
       "      <th>COE Remaining</th>\n",
       "      <td>7yrs 5mths 13days</td>\n",
       "      <td>5yrs 10mths 2days</td>\n",
       "      <td>5yrs 2mths 15days</td>\n",
       "      <td>9yrs 5mths 11days</td>\n",
       "      <td>8yrs 4mths 4days</td>\n",
       "    </tr>\n",
       "    <tr>\n",
       "      <th>Manufactured</th>\n",
       "      <td>2008</td>\n",
       "      <td>2016</td>\n",
       "      <td>2016</td>\n",
       "      <td>2020</td>\n",
       "      <td>2008</td>\n",
       "    </tr>\n",
       "    <tr>\n",
       "      <th>Mileage</th>\n",
       "      <td>165,000 km</td>\n",
       "      <td>74,000 km</td>\n",
       "      <td>82,225 km</td>\n",
       "      <td>652 km</td>\n",
       "      <td>174,000 km</td>\n",
       "    </tr>\n",
       "    <tr>\n",
       "      <th>No. of Owners</th>\n",
       "      <td>4</td>\n",
       "      <td>1</td>\n",
       "      <td>1</td>\n",
       "      <td>1</td>\n",
       "      <td>5</td>\n",
       "    </tr>\n",
       "    <tr>\n",
       "      <th>Transmission</th>\n",
       "      <td>Auto</td>\n",
       "      <td>Auto</td>\n",
       "      <td>Auto</td>\n",
       "      <td>Auto</td>\n",
       "      <td>Auto</td>\n",
       "    </tr>\n",
       "    <tr>\n",
       "      <th>Engine Capacity</th>\n",
       "      <td>1,796 cc</td>\n",
       "      <td>1,997 cc</td>\n",
       "      <td>2,488 cc</td>\n",
       "      <td>2,999 cc</td>\n",
       "      <td>2,362 cc</td>\n",
       "    </tr>\n",
       "    <tr>\n",
       "      <th>fuel_type</th>\n",
       "      <td>Petrol</td>\n",
       "      <td>Petrol</td>\n",
       "      <td>Petrol</td>\n",
       "      <td>Petrol-Electric</td>\n",
       "      <td>Petrol</td>\n",
       "    </tr>\n",
       "    <tr>\n",
       "      <th>COE</th>\n",
       "      <td>$32,279</td>\n",
       "      <td>$53,300</td>\n",
       "      <td>$57,501</td>\n",
       "      <td>$32,801</td>\n",
       "      <td>$37,941</td>\n",
       "    </tr>\n",
       "    <tr>\n",
       "      <th>OMV</th>\n",
       "      <td>$43,106</td>\n",
       "      <td>$23,955</td>\n",
       "      <td>$34,974</td>\n",
       "      <td>$83,552</td>\n",
       "      <td>$27,778</td>\n",
       "    </tr>\n",
       "    <tr>\n",
       "      <th>Paper Value</th>\n",
       "      <td>$24,081</td>\n",
       "      <td>$50,286</td>\n",
       "      <td>$60,687</td>\n",
       "      <td>$122,808</td>\n",
       "      <td>$31,694</td>\n",
       "    </tr>\n",
       "    <tr>\n",
       "      <th>Depreciation</th>\n",
       "      <td>$8,550 / year</td>\n",
       "      <td>$11,810 / year</td>\n",
       "      <td>$12,950 / year</td>\n",
       "      <td>$32,440 / year</td>\n",
       "      <td>$7,000 / year</td>\n",
       "    </tr>\n",
       "    <tr>\n",
       "      <th>Type</th>\n",
       "      <td>Luxury Sedan</td>\n",
       "      <td>SUV</td>\n",
       "      <td>MPV</td>\n",
       "      <td>Luxury Sedan</td>\n",
       "      <td>SUV</td>\n",
       "    </tr>\n",
       "  </tbody>\n",
       "</table>\n",
       "</div>"
      ],
      "text/plain": [
       "                                                                0  \\\n",
       "make_model         MERCEDES-BENZ C-CLASS C200K (COE TILL 10/2028)   \n",
       "Price                                                  $63,800      \n",
       "Registration Date                                     19-Dec-2008   \n",
       "COE Remaining                                   7yrs 5mths 13days   \n",
       "Manufactured                                                 2008   \n",
       "Mileage                                                165,000 km   \n",
       "No. of Owners                                                   4   \n",
       "Transmission                                                 Auto   \n",
       "Engine Capacity                                          1,796 cc   \n",
       "fuel_type                                                  Petrol   \n",
       "COE                                                       $32,279   \n",
       "OMV                                                       $43,106   \n",
       "Paper Value                                               $24,081   \n",
       "Depreciation                                        $8,550 / year   \n",
       "Type                                                 Luxury Sedan   \n",
       "\n",
       "                                                              1  \\\n",
       "make_model         NISSAN X-TRAIL 2.0A PREMIUM 7-SEATER SUNROOF   \n",
       "Price                                                $81,800      \n",
       "Registration Date                                   21-Mar-2017   \n",
       "COE Remaining                                 5yrs 10mths 2days   \n",
       "Manufactured                                               2016   \n",
       "Mileage                                               74,000 km   \n",
       "No. of Owners                                                 1   \n",
       "Transmission                                               Auto   \n",
       "Engine Capacity                                        1,997 cc   \n",
       "fuel_type                                                Petrol   \n",
       "COE                                                     $53,300   \n",
       "OMV                                                     $23,955   \n",
       "Paper Value                                             $50,286   \n",
       "Depreciation                                     $11,810 / year   \n",
       "Type                                                        SUV   \n",
       "\n",
       "                                                  2  \\\n",
       "make_model         NISSAN ELGRAND 2.5A HIGHWAY STAR   \n",
       "Price                                    $88,000      \n",
       "Registration Date                       03-Aug-2016   \n",
       "COE Remaining                     5yrs 2mths 15days   \n",
       "Manufactured                                   2016   \n",
       "Mileage                                   82,225 km   \n",
       "No. of Owners                                     1   \n",
       "Transmission                                   Auto   \n",
       "Engine Capacity                            2,488 cc   \n",
       "fuel_type                                    Petrol   \n",
       "COE                                         $57,501   \n",
       "OMV                                         $34,974   \n",
       "Paper Value                                 $60,687   \n",
       "Depreciation                         $12,950 / year   \n",
       "Type                                            MPV   \n",
       "\n",
       "                                                                   3  \\\n",
       "make_model         MERCEDES-BENZ CLS-CLASS CLS450 MILD HYBRID AMG...   \n",
       "Price                                                    $367,988      \n",
       "Registration Date                                        30-Oct-2020   \n",
       "COE Remaining                                      9yrs 5mths 11days   \n",
       "Manufactured                                                    2020   \n",
       "Mileage                                                       652 km   \n",
       "No. of Owners                                                      1   \n",
       "Transmission                                                    Auto   \n",
       "Engine Capacity                                             2,999 cc   \n",
       "fuel_type                                            Petrol-Electric   \n",
       "COE                                                          $32,801   \n",
       "OMV                                                          $83,552   \n",
       "Paper Value                                                 $122,808   \n",
       "Depreciation                                          $32,440 / year   \n",
       "Type                                                    Luxury Sedan   \n",
       "\n",
       "                                                          4  \n",
       "make_model         TOYOTA HARRIER 2.4A G (COE TILL 09/2029)  \n",
       "Price                                            $58,500     \n",
       "Registration Date                               23-Sep-2009  \n",
       "COE Remaining                              8yrs 4mths 4days  \n",
       "Manufactured                                           2008  \n",
       "Mileage                                          174,000 km  \n",
       "No. of Owners                                             5  \n",
       "Transmission                                           Auto  \n",
       "Engine Capacity                                    2,362 cc  \n",
       "fuel_type                                            Petrol  \n",
       "COE                                                 $37,941  \n",
       "OMV                                                 $27,778  \n",
       "Paper Value                                         $31,694  \n",
       "Depreciation                                  $7,000 / year  \n",
       "Type                                                    SUV  "
      ]
     },
     "execution_count": 10,
     "metadata": {},
     "output_type": "execute_result"
    }
   ],
   "source": [
    "df.fuel_type.fillna('Petrol', inplace=True)\n",
    "\n",
    "df.head().T"
   ]
  },
  {
   "cell_type": "markdown",
   "metadata": {},
   "source": [
    "**2. Convert features data type**\n",
    "\n",
    "We will convert **Price, COE, OMV and Paper Value** together."
   ]
  },
  {
   "cell_type": "code",
   "execution_count": 11,
   "metadata": {},
   "outputs": [],
   "source": [
    "to_int = ['Price', 'COE', 'OMV', 'Paper Value']      "
   ]
  },
  {
   "cell_type": "code",
   "execution_count": 12,
   "metadata": {},
   "outputs": [],
   "source": [
    "for item in to_int:\n",
    "    df[item] = [int(item.replace('$', '').replace(',', '')) for item in df[item]]"
   ]
  },
  {
   "cell_type": "markdown",
   "metadata": {},
   "source": [
    "Covert **COE Remaining** into number of months."
   ]
  },
  {
   "cell_type": "code",
   "execution_count": 13,
   "metadata": {},
   "outputs": [],
   "source": [
    "remaining = []\n",
    "\n",
    "for item in df['COE Remaining']:\n",
    "    item = item.split()\n",
    "    if len(item) == 3:\n",
    "        if len(item[1]) == 6:\n",
    "            remaining.append((int(item[0][0])*12)+int(item[1][0]+item[1][1]))\n",
    "        else:\n",
    "            remaining.append((int(item[0][0])*12)+int(item[1][0]))\n",
    "    else:\n",
    "        remaining.append(int(item[0][0])/12)"
   ]
  },
  {
   "cell_type": "code",
   "execution_count": 14,
   "metadata": {},
   "outputs": [
    {
     "data": {
      "text/plain": [
       "0     89\n",
       "1     70\n",
       "2     62\n",
       "3    113\n",
       "4    100\n",
       "Name: COE Remaining, dtype: int64"
      ]
     },
     "execution_count": 14,
     "metadata": {},
     "output_type": "execute_result"
    }
   ],
   "source": [
    "df['COE Remaining'] = remaining\n",
    "df['COE Remaining'].head()"
   ]
  },
  {
   "cell_type": "markdown",
   "metadata": {},
   "source": [
    "Convert **Mileage**."
   ]
  },
  {
   "cell_type": "code",
   "execution_count": 15,
   "metadata": {},
   "outputs": [
    {
     "data": {
      "text/plain": [
       "0    165000\n",
       "1     74000\n",
       "2     82225\n",
       "3       652\n",
       "4    174000\n",
       "Name: Mileage, dtype: int64"
      ]
     },
     "execution_count": 15,
     "metadata": {},
     "output_type": "execute_result"
    }
   ],
   "source": [
    "df['Mileage'] = [int(item.replace('km', '').replace(',', '')) for item in df.Mileage]\n",
    "df.Mileage.head()"
   ]
  },
  {
   "cell_type": "markdown",
   "metadata": {},
   "source": [
    "Convert **No. of Owners**."
   ]
  },
  {
   "cell_type": "code",
   "execution_count": 16,
   "metadata": {},
   "outputs": [
    {
     "data": {
      "text/plain": [
       "0    4\n",
       "1    1\n",
       "2    1\n",
       "3    1\n",
       "4    5\n",
       "Name: No. of Owners, dtype: int64"
      ]
     },
     "execution_count": 16,
     "metadata": {},
     "output_type": "execute_result"
    }
   ],
   "source": [
    "df['No. of Owners'] = [int(item[-1]) for item in df['No. of Owners']]\n",
    "df['No. of Owners'].head()"
   ]
  },
  {
   "cell_type": "markdown",
   "metadata": {},
   "source": [
    "Convert **Engine Capacity**."
   ]
  },
  {
   "cell_type": "code",
   "execution_count": 17,
   "metadata": {},
   "outputs": [
    {
     "data": {
      "text/plain": [
       "177     Electric\n",
       "2149    Electric\n",
       "829     Electric\n",
       "2475    Electric\n",
       "850     Electric\n",
       "          ...   \n",
       "3365    1,193 cc\n",
       "3599    1,193 cc\n",
       "1175    1,086 cc\n",
       "2373    1,086 cc\n",
       "4960    1,086 cc\n",
       "Name: Engine Capacity, Length: 5229, dtype: object"
      ]
     },
     "execution_count": 17,
     "metadata": {},
     "output_type": "execute_result"
    }
   ],
   "source": [
    "df['Engine Capacity'].sort_values(ascending=False)"
   ]
  },
  {
   "cell_type": "markdown",
   "metadata": {},
   "source": [
    "As shown above, there are values like \"Electric\" in **Engine Capacity**. This is because electric cars like Tesla has no engine capacity. We will create another feature name **electric** before we convert **Engine Capacity**."
   ]
  },
  {
   "cell_type": "code",
   "execution_count": 18,
   "metadata": {},
   "outputs": [],
   "source": [
    " # create a copy of Engine Capacity\n",
    "\n",
    "electric = df['Engine Capacity'].copy()"
   ]
  },
  {
   "cell_type": "code",
   "execution_count": 19,
   "metadata": {},
   "outputs": [],
   "source": [
    "for i in range(len(electric)):\n",
    "    if electric[i] != 'Electric':\n",
    "        electric[i] = 'No'"
   ]
  },
  {
   "cell_type": "code",
   "execution_count": 20,
   "metadata": {},
   "outputs": [
    {
     "data": {
      "text/plain": [
       "0    No\n",
       "1    No\n",
       "2    No\n",
       "3    No\n",
       "4    No\n",
       "Name: electric, dtype: object"
      ]
     },
     "execution_count": 20,
     "metadata": {},
     "output_type": "execute_result"
    }
   ],
   "source": [
    "df['electric'] = electric\n",
    "df.electric.head()"
   ]
  },
  {
   "cell_type": "code",
   "execution_count": 21,
   "metadata": {},
   "outputs": [
    {
     "data": {
      "text/plain": [
       "0    1796\n",
       "1    1997\n",
       "2    2488\n",
       "3    2999\n",
       "4    2362\n",
       "Name: Engine Capacity, dtype: int64"
      ]
     },
     "execution_count": 21,
     "metadata": {},
     "output_type": "execute_result"
    }
   ],
   "source": [
    "df['Engine Capacity'] = [int(item.replace('cc', '').replace(',', '').replace('Electric', '0')) \\\n",
    "                         for item in df['Engine Capacity']]\n",
    "df['Engine Capacity'].head()"
   ]
  },
  {
   "cell_type": "markdown",
   "metadata": {},
   "source": [
    "Since electric cars are electric driven, so we have to replace the **fuel_type** to electric."
   ]
  },
  {
   "cell_type": "code",
   "execution_count": 22,
   "metadata": {},
   "outputs": [],
   "source": [
    "fuel = df[df.electric=='Electric']"
   ]
  },
  {
   "cell_type": "code",
   "execution_count": 23,
   "metadata": {},
   "outputs": [],
   "source": [
    "fuel['fuel_type'] = [item.replace('Petrol', 'Electric') for item in fuel['fuel_type']]"
   ]
  },
  {
   "cell_type": "code",
   "execution_count": 24,
   "metadata": {},
   "outputs": [],
   "source": [
    "# drop those rows that are electric cars from df\n",
    "\n",
    "df.drop(fuel.index, inplace=True)"
   ]
  },
  {
   "cell_type": "code",
   "execution_count": 25,
   "metadata": {},
   "outputs": [],
   "source": [
    "# concate df with fuel\n",
    "\n",
    "df = pd.concat([df, fuel], ignore_index=True)"
   ]
  },
  {
   "cell_type": "code",
   "execution_count": 26,
   "metadata": {},
   "outputs": [
    {
     "data": {
      "text/plain": [
       "(5229, 16)"
      ]
     },
     "execution_count": 26,
     "metadata": {},
     "output_type": "execute_result"
    }
   ],
   "source": [
    "df.shape"
   ]
  },
  {
   "cell_type": "code",
   "execution_count": 27,
   "metadata": {},
   "outputs": [],
   "source": [
    "df.reset_index(drop=True, inplace=True)"
   ]
  },
  {
   "cell_type": "markdown",
   "metadata": {},
   "source": [
    "Convert **Depreciation**."
   ]
  },
  {
   "cell_type": "code",
   "execution_count": 28,
   "metadata": {},
   "outputs": [
    {
     "data": {
      "text/plain": [
       "0     8550\n",
       "1    11810\n",
       "2    12950\n",
       "3    32440\n",
       "4     7000\n",
       "Name: Depreciation, dtype: int64"
      ]
     },
     "execution_count": 28,
     "metadata": {},
     "output_type": "execute_result"
    }
   ],
   "source": [
    "df['Depreciation'] = [int(item[:7].replace('$', '').replace(',', '')) for item in df.Depreciation]\n",
    "df.Depreciation.head()"
   ]
  },
  {
   "cell_type": "code",
   "execution_count": 29,
   "metadata": {},
   "outputs": [
    {
     "name": "stdout",
     "output_type": "stream",
     "text": [
      "<class 'pandas.core.frame.DataFrame'>\n",
      "RangeIndex: 5229 entries, 0 to 5228\n",
      "Data columns (total 16 columns):\n",
      " #   Column             Non-Null Count  Dtype \n",
      "---  ------             --------------  ----- \n",
      " 0   make_model         5229 non-null   object\n",
      " 1   Price              5229 non-null   int64 \n",
      " 2   Registration Date  5229 non-null   object\n",
      " 3   COE Remaining      5229 non-null   int64 \n",
      " 4   Manufactured       5229 non-null   int64 \n",
      " 5   Mileage            5229 non-null   int64 \n",
      " 6   No. of Owners      5229 non-null   int64 \n",
      " 7   Transmission       5229 non-null   object\n",
      " 8   Engine Capacity    5229 non-null   int64 \n",
      " 9   fuel_type          5229 non-null   object\n",
      " 10  COE                5229 non-null   int64 \n",
      " 11  OMV                5229 non-null   int64 \n",
      " 12  Paper Value        5229 non-null   int64 \n",
      " 13  Depreciation       5229 non-null   int64 \n",
      " 14  Type               5229 non-null   object\n",
      " 15  electric           5229 non-null   object\n",
      "dtypes: int64(10), object(6)\n",
      "memory usage: 653.8+ KB\n"
     ]
    }
   ],
   "source": [
    "df.info()"
   ]
  },
  {
   "cell_type": "markdown",
   "metadata": {},
   "source": [
    "We will separate **make_model** into 2 features - **make** and **model**."
   ]
  },
  {
   "cell_type": "code",
   "execution_count": 30,
   "metadata": {},
   "outputs": [],
   "source": [
    "make = []\n",
    "for item in df.make_model:\n",
    "    item = item.split()\n",
    "    if 'ALFA' in item or 'ROVER' in item or 'ASTON' in item:\n",
    "        make.append(item[0]+' '+item[1])\n",
    "    else:\n",
    "        make.append(item[0])"
   ]
  },
  {
   "cell_type": "code",
   "execution_count": 31,
   "metadata": {},
   "outputs": [],
   "source": [
    "df.insert(0, 'make', make)"
   ]
  },
  {
   "cell_type": "markdown",
   "metadata": {},
   "source": [
    "We will replace **Registration Date** with **car_age**."
   ]
  },
  {
   "cell_type": "code",
   "execution_count": 32,
   "metadata": {},
   "outputs": [
    {
     "data": {
      "text/plain": [
       "0    13\n",
       "1     4\n",
       "2     5\n",
       "3     1\n",
       "4    12\n",
       "Name: Registration Date, dtype: int64"
      ]
     },
     "execution_count": 32,
     "metadata": {},
     "output_type": "execute_result"
    }
   ],
   "source": [
    "df['Registration Date'] = [pd.Timestamp.now().year-int(item[-4:]) for item in df['Registration Date']]\n",
    "df['Registration Date'].head()"
   ]
  },
  {
   "cell_type": "code",
   "execution_count": 33,
   "metadata": {},
   "outputs": [],
   "source": [
    "# rename the features\n",
    "\n",
    "df.rename(columns={'make_model':'model', 'Registration Date':'car_age'}, inplace=True)"
   ]
  },
  {
   "cell_type": "markdown",
   "metadata": {},
   "source": [
    "### Exploratory Data Analysis"
   ]
  },
  {
   "cell_type": "markdown",
   "metadata": {},
   "source": [
    "**Brands of car on the website:**"
   ]
  },
  {
   "cell_type": "code",
   "execution_count": 34,
   "metadata": {},
   "outputs": [],
   "source": [
    "count = df.make.value_counts()"
   ]
  },
  {
   "cell_type": "code",
   "execution_count": 35,
   "metadata": {},
   "outputs": [
    {
     "data": {
      "image/png": "[encoded data removed]",
      "text/plain": [
       "<Figure size 864x432 with 1 Axes>"
      ]
     },
     "metadata": {
      "needs_background": "light"
     },
     "output_type": "display_data"
    }
   ],
   "source": [
    "count.plot(kind='bar', figsize=(12,6), title='No. of cars advertised by brand')\n",
    "plt.axes().set_facecolor('lightgrey')\n",
    "plt.xlabel('Brand')\n",
    "plt.ylabel('Count')\n",
    "\n",
    "plt.show()"
   ]
  },
  {
   "cell_type": "markdown",
   "metadata": {},
   "source": [
    "We are not surprised to see that out of the total cars that are advertised, Mercedes, Honda, Toyota and BMW combined to have more than half as from the statistics we found on data.gov.sg (https://data.gov.sg/dataset/annual-car-population-by-make?view_id=35537b34-3656-4a5d-a37d-3bab1672f80d&resource_id=08f7cf29-60aa-4da0-9e79-8c139a70c91e), these 4 brands already had a huge market shares since 2005.\n",
    "\n",
    "**The car age of each brand:**"
   ]
  },
  {
   "cell_type": "code",
   "execution_count": 36,
   "metadata": {},
   "outputs": [],
   "source": [
    "# create a list for the pie chart\n",
    "\n",
    "avg = []\n",
    "\n",
    "for item in df.car_age:\n",
    "    if item < df.car_age.mean():\n",
    "        avg.append('less')\n",
    "    else:\n",
    "        avg.append('more')"
   ]
  },
  {
   "cell_type": "code",
   "execution_count": 37,
   "metadata": {},
   "outputs": [
    {
     "data": {
      "image/png": "[encoded data removed]",
      "text/plain": [
       "<Figure size 1080x432 with 2 Axes>"
      ]
     },
     "metadata": {
      "needs_background": "light"
     },
     "output_type": "display_data"
    }
   ],
   "source": [
    "fig, ax = plt.subplots(nrows=1, ncols=2, figsize=(15,6))\n",
    "fig.suptitle('Car Age', fontsize=20)\n",
    "\n",
    "sns.stripplot(x=df.make, y=df.car_age, palette='deep', ax=ax[0])\n",
    "\n",
    "for label in ax[0].get_xticklabels():\n",
    "    label.set_rotation(90)\n",
    "    \n",
    "ax[0].set_facecolor('lightgrey')\n",
    "ax[0].set_xlabel('Brand')\n",
    "ax[0].axhline(y=df.car_age.mean(), linestyle='-', color='r', label='Avg={}'.format(round(df.car_age.mean(), 2)))\n",
    "ax[0].legend()\n",
    "\n",
    "ax[1].pie(x=np.unique(avg, return_counts=True)[1], explode=(0.1,0), labels=['Less than Avg.', 'More than Avg.'], \n",
    "          autopct='%.1f%%', startangle=90, shadow=True, colors=['cornflowerblue', 'turquoise'])\n",
    "\n",
    "plt.tight_layout()"
   ]
  },
  {
   "cell_type": "markdown",
   "metadata": {},
   "source": [
    "The age distribution of most brand are very wide. There are even vintage cars (more than 20 years)! The average age of the cars on the website are below 6 year and most of them are below the average.\n",
    "\n",
    "**The type of cars:**"
   ]
  },
  {
   "cell_type": "code",
   "execution_count": 38,
   "metadata": {},
   "outputs": [],
   "source": [
    "type_count = df.Type.value_counts()"
   ]
  },
  {
   "cell_type": "code",
   "execution_count": 39,
   "metadata": {},
   "outputs": [
    {
     "data": {
      "image/png": "[encoded data removed]",
      "text/plain": [
       "<Figure size 864x432 with 2 Axes>"
      ]
     },
     "metadata": {
      "needs_background": "light"
     },
     "output_type": "display_data"
    }
   ],
   "source": [
    "fig, ax = plt.subplots(nrows=1, ncols=2, figsize=(12,6))\n",
    "fig.suptitle('Car Type', fontsize=20)\n",
    "\n",
    "[ax[i].set_facecolor('lightgrey') for i in range(2)]\n",
    "\n",
    "type_count.plot(kind='bar', title='Count of each car type', ax=ax[0])\n",
    "ax[0].set_xlabel('Car Type')\n",
    "ax[0].set_ylabel('Count')\n",
    "\n",
    "for label in ax[0].get_xticklabels():\n",
    "    label.set_rotation(45)\n",
    "\n",
    "sns.violinplot(x=df.Type, y=df.Price, palette='PuOr', ax=ax[1])\n",
    "\n",
    "for label in ax[1].get_xticklabels():\n",
    "    label.set_rotation(45)\n",
    "\n",
    "ax[1].set_title('Price of each car type')\n",
    "ax[1].set_xlabel('Car Type')\n",
    "\n",
    "plt.tight_layout()"
   ]
  },
  {
   "cell_type": "markdown",
   "metadata": {},
   "source": [
    "Surprisingly, SUV is the second most commom type of car on the website (Luxury Sedan and Mid-Size Sedan are still sedan car. Difference is just the brand). Is it the sales of new SUV car has increased in the past few years? Due to the brand (like Roll-Royces), we can see that the price of some car types can go as high as over \\\\$1 millions (for a used car?!) but most of them are still around the average price range. Notice that the highest price for Mid-Sized Sedan is above $500k. From our understanding, there are no Mid-Sized Sedan brand that have price that go that high (not even their new car). Seems like some of the car type are mixed up.\n",
    "\n",
    "**Does OMV tell us anything about the car:**"
   ]
  },
  {
   "cell_type": "code",
   "execution_count": 40,
   "metadata": {},
   "outputs": [
    {
     "data": {
      "image/png": "[encoded data removed]",
      "text/plain": [
       "<Figure size 864x432 with 1 Axes>"
      ]
     },
     "metadata": {
      "needs_background": "light"
     },
     "output_type": "display_data"
    }
   ],
   "source": [
    "plt.figure(figsize=(12,6))\n",
    "plt.axes().set_facecolor('lightgrey')\n",
    "\n",
    "sns.barplot(x=df.make, y=df.Price, color='Blue', ci=None)\n",
    "sns.barplot(x=df.make, y=df.OMV, color=('lightblue'), ci=None)\n",
    "\n",
    "plt.title('OMV vs Price')\n",
    "plt.xlabel('Brand')\n",
    "plt.xticks(rotation=90)\n",
    "plt.ylabel('Values')\n",
    "plt.yticks(np.arange(0, 900000, 50000))\n",
    "plt.grid(axis='y', color='white')\n",
    "plt.legend(['Price', 'OMV'])\n",
    "\n",
    "plt.show()"
   ]
  },
  {
   "cell_type": "markdown",
   "metadata": {},
   "source": [
    "We can see that those cars with **OMV** of \\\\$100k and above are those exotic brands like Rolls-Royce, Ferari, Lamborghini etc. Therefore in some way the **OMV** can roughly tell us if the car is from an exotic brand. Also, we can see that car price is about at least 1.5 times the omv of the car. \n",
    "\n",
    "**How Price is affected by mileage and age:**\n",
    "\n",
    "We will compare using same brand and model."
   ]
  },
  {
   "cell_type": "code",
   "execution_count": 41,
   "metadata": {
    "scrolled": true
   },
   "outputs": [
    {
     "data": {
      "text/plain": [
       "HONDA VEZEL 1.5A X    93\n",
       "Name: model, dtype: int64"
      ]
     },
     "execution_count": 41,
     "metadata": {},
     "output_type": "execute_result"
    }
   ],
   "source": [
    "df.model.value_counts().head(1)"
   ]
  },
  {
   "cell_type": "code",
   "execution_count": 42,
   "metadata": {},
   "outputs": [],
   "source": [
    "same_model = df[df.model=='HONDA VEZEL 1.5A X']"
   ]
  },
  {
   "cell_type": "code",
   "execution_count": 43,
   "metadata": {
    "scrolled": true
   },
   "outputs": [],
   "source": [
    "sort_age = same_model.sort_values(by=['car_age'])"
   ]
  },
  {
   "cell_type": "code",
   "execution_count": 44,
   "metadata": {},
   "outputs": [],
   "source": [
    "sort_age['dist_bin'] = pd.cut(x=sort_age.Mileage, bins=np.arange(0, 140000, 5000), \n",
    "                              labels=['0-5000', '5001-10000', '10001-15000', '15001-20000', '20001-25000', '25001-30000', \n",
    "                                      '30001-35000', '35001-40000', '40001-45000', '45001-50000', '50001-55000', \n",
    "                                      '55001-60000', '60001-65000', '65001-70000', '70001-75000', '75001-80000', \n",
    "                                      '80001-85000', '85001-90000', '90001-95000', '95001-100000', '100001-105000', \n",
    "                                      '105001-110000', '110001-115000', '115001-120000', '120001-125000', '125001-130000', \n",
    "                                      '130001-135000'])"
   ]
  },
  {
   "cell_type": "code",
   "execution_count": 50,
   "metadata": {},
   "outputs": [
    {
     "data": {
      "image/png": "[encoded data removed]",
      "text/plain": [
       "<Figure size 864x432 with 1 Axes>"
      ]
     },
     "metadata": {
      "needs_background": "light"
     },
     "output_type": "display_data"
    }
   ],
   "source": [
    "plt.figure(figsize=(12,6))\n",
    "plt.axes().set_facecolor('lightgrey')\n",
    "\n",
    "sns.stripplot(x=sort_age.dist_bin, y=sort_age.Price, hue=sort_age.car_age)\n",
    "sns.lineplot(x=sort_age.dist_bin, y=sort_age.Price, ci=None, label='Mileage')\n",
    "\n",
    "plt.title('Mileage, Car Age vs Price')\n",
    "plt.xlabel('Mileage (km)')\n",
    "plt.xticks(rotation=90)\n",
    "plt.yticks(np.arange(50000, 115000, 5000))\n",
    "plt.legend(title='Car Age', ncol=8, fontsize='x-small')\n",
    "\n",
    "plt.show()"
   ]
  },
  {
   "cell_type": "markdown",
   "metadata": {},
   "source": [
    "We can see that most of the car price is highly affected by car age and mileage. The price is lower if the car is older or with higher mileage.\n",
    "\n",
    "### Data Pre-processing\n",
    "\n",
    "Before we pre-process the data, we have to correct the car type that are mixed up. After some research, we set the price threshold of Mid-Sized Sedan at $150k."
   ]
  },
  {
   "cell_type": "code",
   "execution_count": 46,
   "metadata": {},
   "outputs": [
    {
     "data": {
      "text/html": [
       "<div>\n",
       "<style scoped>\n",
       "    .dataframe tbody tr th:only-of-type {\n",
       "        vertical-align: middle;\n",
       "    }\n",
       "\n",
       "    .dataframe tbody tr th {\n",
       "        vertical-align: top;\n",
       "    }\n",
       "\n",
       "    .dataframe thead th {\n",
       "        text-align: right;\n",
       "    }\n",
       "</style>\n",
       "<table border=\"1\" class=\"dataframe\">\n",
       "  <thead>\n",
       "    <tr style=\"text-align: right;\">\n",
       "      <th></th>\n",
       "      <th>316</th>\n",
       "      <th>435</th>\n",
       "      <th>505</th>\n",
       "      <th>553</th>\n",
       "      <th>1324</th>\n",
       "      <th>2097</th>\n",
       "      <th>2526</th>\n",
       "      <th>2610</th>\n",
       "      <th>3333</th>\n",
       "      <th>4971</th>\n",
       "    </tr>\n",
       "  </thead>\n",
       "  <tbody>\n",
       "    <tr>\n",
       "      <th>make</th>\n",
       "      <td>TOYOTA</td>\n",
       "      <td>TOYOTA</td>\n",
       "      <td>MERCEDES-BENZ</td>\n",
       "      <td>MERCEDES-BENZ</td>\n",
       "      <td>PORSCHE</td>\n",
       "      <td>SKODA</td>\n",
       "      <td>PORSCHE</td>\n",
       "      <td>BMW</td>\n",
       "      <td>AUDI</td>\n",
       "      <td>SKODA</td>\n",
       "    </tr>\n",
       "    <tr>\n",
       "      <th>model</th>\n",
       "      <td>TOYOTA HARRIER HYBRID G</td>\n",
       "      <td>TOYOTA GR SUPRA 3.0A PRO</td>\n",
       "      <td>MERCEDES-BENZ GLB-CLASS GLB200 AMG LINE</td>\n",
       "      <td>MERCEDES-BENZ GLE-CLASS GLE250D AMG LINE 4MATI...</td>\n",
       "      <td>PORSCHE 911 CARRERA S COUPE 3.0A PDK</td>\n",
       "      <td>SKODA OCTAVIA 2.0A TSI RS</td>\n",
       "      <td>PORSCHE PANAMERA V6 3.6A PLATINUM EDITION PDK</td>\n",
       "      <td>BMW I8</td>\n",
       "      <td>AUDI A6 MILD HYBRID 2.0A TFSI S-TRONIC DESIGN</td>\n",
       "      <td>SKODA OCTAVIA ESTATE 2.0A VRS</td>\n",
       "    </tr>\n",
       "    <tr>\n",
       "      <th>Price</th>\n",
       "      <td>179988</td>\n",
       "      <td>250000</td>\n",
       "      <td>187800</td>\n",
       "      <td>212000</td>\n",
       "      <td>588088</td>\n",
       "      <td>168168</td>\n",
       "      <td>193000</td>\n",
       "      <td>488000</td>\n",
       "      <td>186800</td>\n",
       "      <td>158800</td>\n",
       "    </tr>\n",
       "    <tr>\n",
       "      <th>car_age</th>\n",
       "      <td>0</td>\n",
       "      <td>1</td>\n",
       "      <td>0</td>\n",
       "      <td>3</td>\n",
       "      <td>1</td>\n",
       "      <td>1</td>\n",
       "      <td>8</td>\n",
       "      <td>1</td>\n",
       "      <td>1</td>\n",
       "      <td>2</td>\n",
       "    </tr>\n",
       "    <tr>\n",
       "      <th>COE Remaining</th>\n",
       "      <td>115</td>\n",
       "      <td>104</td>\n",
       "      <td>116</td>\n",
       "      <td>91</td>\n",
       "      <td>115</td>\n",
       "      <td>110</td>\n",
       "      <td>23</td>\n",
       "      <td>106</td>\n",
       "      <td>104</td>\n",
       "      <td>100</td>\n",
       "    </tr>\n",
       "    <tr>\n",
       "      <th>Manufactured</th>\n",
       "      <td>2020</td>\n",
       "      <td>2019</td>\n",
       "      <td>2020</td>\n",
       "      <td>2018</td>\n",
       "      <td>2020</td>\n",
       "      <td>2019</td>\n",
       "      <td>2012</td>\n",
       "      <td>2017</td>\n",
       "      <td>2019</td>\n",
       "      <td>2019</td>\n",
       "    </tr>\n",
       "    <tr>\n",
       "      <th>Mileage</th>\n",
       "      <td>88</td>\n",
       "      <td>9000</td>\n",
       "      <td>28</td>\n",
       "      <td>35000</td>\n",
       "      <td>1101</td>\n",
       "      <td>9117</td>\n",
       "      <td>30000</td>\n",
       "      <td>10000</td>\n",
       "      <td>19000</td>\n",
       "      <td>29000</td>\n",
       "    </tr>\n",
       "    <tr>\n",
       "      <th>No. of Owners</th>\n",
       "      <td>1</td>\n",
       "      <td>1</td>\n",
       "      <td>1</td>\n",
       "      <td>1</td>\n",
       "      <td>1</td>\n",
       "      <td>1</td>\n",
       "      <td>2</td>\n",
       "      <td>1</td>\n",
       "      <td>1</td>\n",
       "      <td>1</td>\n",
       "    </tr>\n",
       "    <tr>\n",
       "      <th>Transmission</th>\n",
       "      <td>Auto</td>\n",
       "      <td>Auto</td>\n",
       "      <td>Auto</td>\n",
       "      <td>Auto</td>\n",
       "      <td>Auto</td>\n",
       "      <td>Auto</td>\n",
       "      <td>Auto</td>\n",
       "      <td>Auto</td>\n",
       "      <td>Auto</td>\n",
       "      <td>Auto</td>\n",
       "    </tr>\n",
       "    <tr>\n",
       "      <th>Engine Capacity</th>\n",
       "      <td>2487</td>\n",
       "      <td>2998</td>\n",
       "      <td>1332</td>\n",
       "      <td>2143</td>\n",
       "      <td>2981</td>\n",
       "      <td>1984</td>\n",
       "      <td>3605</td>\n",
       "      <td>1499</td>\n",
       "      <td>1984</td>\n",
       "      <td>1984</td>\n",
       "    </tr>\n",
       "    <tr>\n",
       "      <th>fuel_type</th>\n",
       "      <td>Petrol-Electric</td>\n",
       "      <td>Petrol</td>\n",
       "      <td>Petrol</td>\n",
       "      <td>Diesel</td>\n",
       "      <td>Petrol</td>\n",
       "      <td>Petrol</td>\n",
       "      <td>Petrol</td>\n",
       "      <td>Petrol-Electric</td>\n",
       "      <td>Petrol-Electric</td>\n",
       "      <td>Petrol</td>\n",
       "    </tr>\n",
       "    <tr>\n",
       "      <th>COE</th>\n",
       "      <td>41503</td>\n",
       "      <td>37705</td>\n",
       "      <td>49500</td>\n",
       "      <td>31001</td>\n",
       "      <td>41001</td>\n",
       "      <td>35001</td>\n",
       "      <td>97889</td>\n",
       "      <td>33301</td>\n",
       "      <td>37705</td>\n",
       "      <td>37000</td>\n",
       "    </tr>\n",
       "    <tr>\n",
       "      <th>OMV</th>\n",
       "      <td>45575</td>\n",
       "      <td>62748</td>\n",
       "      <td>33917</td>\n",
       "      <td>64921</td>\n",
       "      <td>154533</td>\n",
       "      <td>26681</td>\n",
       "      <td>111321</td>\n",
       "      <td>131921</td>\n",
       "      <td>41666</td>\n",
       "      <td>30513</td>\n",
       "    </tr>\n",
       "    <tr>\n",
       "      <th>Paper Value</th>\n",
       "      <td>70640</td>\n",
       "      <td>96591</td>\n",
       "      <td>77730</td>\n",
       "      <td>90247</td>\n",
       "      <td>227060</td>\n",
       "      <td>54351</td>\n",
       "      <td>80268</td>\n",
       "      <td>186581</td>\n",
       "      <td>70486</td>\n",
       "      <td>56937</td>\n",
       "    </tr>\n",
       "    <tr>\n",
       "      <th>Depreciation</th>\n",
       "      <td>16540</td>\n",
       "      <td>23800</td>\n",
       "      <td>17290</td>\n",
       "      <td>22010</td>\n",
       "      <td>48120</td>\n",
       "      <td>16610</td>\n",
       "      <td>70600</td>\n",
       "      <td>43280</td>\n",
       "      <td>18620</td>\n",
       "      <td>16940</td>\n",
       "    </tr>\n",
       "    <tr>\n",
       "      <th>Type</th>\n",
       "      <td>Mid-Sized Sedan</td>\n",
       "      <td>Mid-Sized Sedan</td>\n",
       "      <td>Mid-Sized Sedan</td>\n",
       "      <td>Mid-Sized Sedan</td>\n",
       "      <td>Mid-Sized Sedan</td>\n",
       "      <td>Mid-Sized Sedan</td>\n",
       "      <td>Mid-Sized Sedan</td>\n",
       "      <td>Mid-Sized Sedan</td>\n",
       "      <td>Mid-Sized Sedan</td>\n",
       "      <td>Mid-Sized Sedan</td>\n",
       "    </tr>\n",
       "    <tr>\n",
       "      <th>electric</th>\n",
       "      <td>No</td>\n",
       "      <td>No</td>\n",
       "      <td>No</td>\n",
       "      <td>No</td>\n",
       "      <td>No</td>\n",
       "      <td>No</td>\n",
       "      <td>No</td>\n",
       "      <td>No</td>\n",
       "      <td>No</td>\n",
       "      <td>No</td>\n",
       "    </tr>\n",
       "  </tbody>\n",
       "</table>\n",
       "</div>"
      ],
      "text/plain": [
       "                                    316                       435   \\\n",
       "make                              TOYOTA                    TOYOTA   \n",
       "model            TOYOTA HARRIER HYBRID G  TOYOTA GR SUPRA 3.0A PRO   \n",
       "Price                             179988                    250000   \n",
       "car_age                                0                         1   \n",
       "COE Remaining                        115                       104   \n",
       "Manufactured                        2020                      2019   \n",
       "Mileage                               88                      9000   \n",
       "No. of Owners                          1                         1   \n",
       "Transmission                        Auto                      Auto   \n",
       "Engine Capacity                     2487                      2998   \n",
       "fuel_type                Petrol-Electric                    Petrol   \n",
       "COE                                41503                     37705   \n",
       "OMV                                45575                     62748   \n",
       "Paper Value                        70640                     96591   \n",
       "Depreciation                       16540                     23800   \n",
       "Type                     Mid-Sized Sedan           Mid-Sized Sedan   \n",
       "electric                              No                        No   \n",
       "\n",
       "                                                    505   \\\n",
       "make                                       MERCEDES-BENZ   \n",
       "model            MERCEDES-BENZ GLB-CLASS GLB200 AMG LINE   \n",
       "Price                                             187800   \n",
       "car_age                                                0   \n",
       "COE Remaining                                        116   \n",
       "Manufactured                                        2020   \n",
       "Mileage                                               28   \n",
       "No. of Owners                                          1   \n",
       "Transmission                                        Auto   \n",
       "Engine Capacity                                     1332   \n",
       "fuel_type                                         Petrol   \n",
       "COE                                                49500   \n",
       "OMV                                                33917   \n",
       "Paper Value                                        77730   \n",
       "Depreciation                                       17290   \n",
       "Type                                     Mid-Sized Sedan   \n",
       "electric                                              No   \n",
       "\n",
       "                                                              553   \\\n",
       "make                                                 MERCEDES-BENZ   \n",
       "model            MERCEDES-BENZ GLE-CLASS GLE250D AMG LINE 4MATI...   \n",
       "Price                                                       212000   \n",
       "car_age                                                          3   \n",
       "COE Remaining                                                   91   \n",
       "Manufactured                                                  2018   \n",
       "Mileage                                                      35000   \n",
       "No. of Owners                                                    1   \n",
       "Transmission                                                  Auto   \n",
       "Engine Capacity                                               2143   \n",
       "fuel_type                                                   Diesel   \n",
       "COE                                                          31001   \n",
       "OMV                                                          64921   \n",
       "Paper Value                                                  90247   \n",
       "Depreciation                                                 22010   \n",
       "Type                                               Mid-Sized Sedan   \n",
       "electric                                                        No   \n",
       "\n",
       "                                                 1324  \\\n",
       "make                                          PORSCHE   \n",
       "model            PORSCHE 911 CARRERA S COUPE 3.0A PDK   \n",
       "Price                                          588088   \n",
       "car_age                                             1   \n",
       "COE Remaining                                     115   \n",
       "Manufactured                                     2020   \n",
       "Mileage                                          1101   \n",
       "No. of Owners                                       1   \n",
       "Transmission                                     Auto   \n",
       "Engine Capacity                                  2981   \n",
       "fuel_type                                      Petrol   \n",
       "COE                                             41001   \n",
       "OMV                                            154533   \n",
       "Paper Value                                    227060   \n",
       "Depreciation                                    48120   \n",
       "Type                                  Mid-Sized Sedan   \n",
       "electric                                           No   \n",
       "\n",
       "                                      2097  \\\n",
       "make                                 SKODA   \n",
       "model            SKODA OCTAVIA 2.0A TSI RS   \n",
       "Price                               168168   \n",
       "car_age                                  1   \n",
       "COE Remaining                          110   \n",
       "Manufactured                          2019   \n",
       "Mileage                               9117   \n",
       "No. of Owners                            1   \n",
       "Transmission                          Auto   \n",
       "Engine Capacity                       1984   \n",
       "fuel_type                           Petrol   \n",
       "COE                                  35001   \n",
       "OMV                                  26681   \n",
       "Paper Value                          54351   \n",
       "Depreciation                         16610   \n",
       "Type                       Mid-Sized Sedan   \n",
       "electric                                No   \n",
       "\n",
       "                                                          2526  \\\n",
       "make                                                   PORSCHE   \n",
       "model            PORSCHE PANAMERA V6 3.6A PLATINUM EDITION PDK   \n",
       "Price                                                   193000   \n",
       "car_age                                                      8   \n",
       "COE Remaining                                               23   \n",
       "Manufactured                                              2012   \n",
       "Mileage                                                  30000   \n",
       "No. of Owners                                                2   \n",
       "Transmission                                              Auto   \n",
       "Engine Capacity                                           3605   \n",
       "fuel_type                                               Petrol   \n",
       "COE                                                      97889   \n",
       "OMV                                                     111321   \n",
       "Paper Value                                              80268   \n",
       "Depreciation                                             70600   \n",
       "Type                                           Mid-Sized Sedan   \n",
       "electric                                                    No   \n",
       "\n",
       "                            2610  \\\n",
       "make                         BMW   \n",
       "model                     BMW I8   \n",
       "Price                     488000   \n",
       "car_age                        1   \n",
       "COE Remaining                106   \n",
       "Manufactured                2017   \n",
       "Mileage                    10000   \n",
       "No. of Owners                  1   \n",
       "Transmission                Auto   \n",
       "Engine Capacity             1499   \n",
       "fuel_type        Petrol-Electric   \n",
       "COE                        33301   \n",
       "OMV                       131921   \n",
       "Paper Value               186581   \n",
       "Depreciation               43280   \n",
       "Type             Mid-Sized Sedan   \n",
       "electric                      No   \n",
       "\n",
       "                                                          3333  \\\n",
       "make                                                      AUDI   \n",
       "model            AUDI A6 MILD HYBRID 2.0A TFSI S-TRONIC DESIGN   \n",
       "Price                                                   186800   \n",
       "car_age                                                      1   \n",
       "COE Remaining                                              104   \n",
       "Manufactured                                              2019   \n",
       "Mileage                                                  19000   \n",
       "No. of Owners                                                1   \n",
       "Transmission                                              Auto   \n",
       "Engine Capacity                                           1984   \n",
       "fuel_type                                      Petrol-Electric   \n",
       "COE                                                      37705   \n",
       "OMV                                                      41666   \n",
       "Paper Value                                              70486   \n",
       "Depreciation                                             18620   \n",
       "Type                                           Mid-Sized Sedan   \n",
       "electric                                                    No   \n",
       "\n",
       "                                          4971  \n",
       "make                                     SKODA  \n",
       "model            SKODA OCTAVIA ESTATE 2.0A VRS  \n",
       "Price                                   158800  \n",
       "car_age                                      2  \n",
       "COE Remaining                              100  \n",
       "Manufactured                              2019  \n",
       "Mileage                                  29000  \n",
       "No. of Owners                                1  \n",
       "Transmission                              Auto  \n",
       "Engine Capacity                           1984  \n",
       "fuel_type                               Petrol  \n",
       "COE                                      37000  \n",
       "OMV                                      30513  \n",
       "Paper Value                              56937  \n",
       "Depreciation                             16940  \n",
       "Type                           Mid-Sized Sedan  \n",
       "electric                                    No  "
      ]
     },
     "execution_count": 46,
     "metadata": {},
     "output_type": "execute_result"
    }
   ],
   "source": [
    "type_error = df[(df.Type=='Mid-Sized Sedan') & (df.Price>150000)]\n",
    "type_error.T"
   ]
  },
  {
   "cell_type": "code",
   "execution_count": 47,
   "metadata": {},
   "outputs": [],
   "source": [
    "# change the car type\n",
    "\n",
    "type_error['Type'] = ['SUV', 'Sports Car', 'SUV', 'SUV', 'Sports Car', 'Mid-Sized Sedan', 'Sports Car', 'Sports Car', \n",
    "                      'Luxury Sedan', 'Mid-Sized Sedan']"
   ]
  },
  {
   "cell_type": "code",
   "execution_count": 48,
   "metadata": {},
   "outputs": [],
   "source": [
    "# drop from the main dataset (df)\n",
    "\n",
    "df.drop(type_error.index, inplace=True)"
   ]
  },
  {
   "cell_type": "code",
   "execution_count": 49,
   "metadata": {},
   "outputs": [
    {
     "data": {
      "text/plain": [
       "(5229, 17)"
      ]
     },
     "execution_count": 49,
     "metadata": {},
     "output_type": "execute_result"
    }
   ],
   "source": [
    "# join the corrected dataset (type_error) back to main dataset (df)\n",
    "\n",
    "df = pd.concat([df, type_error], ignore_index=True)\n",
    "df.shape"
   ]
  },
  {
   "cell_type": "code",
   "execution_count": 50,
   "metadata": {},
   "outputs": [],
   "source": [
    "df.reset_index(drop=True, inplace=True)"
   ]
  },
  {
   "cell_type": "markdown",
   "metadata": {},
   "source": [
    "We have 50 variables in feature **make**. We will group them into 2 groups: **europe** and **others**. "
   ]
  },
  {
   "cell_type": "code",
   "execution_count": 51,
   "metadata": {},
   "outputs": [
    {
     "data": {
      "text/plain": [
       "array(['MERCEDES-BENZ', 'NISSAN', 'TOYOTA', 'MAZDA', 'AUDI', 'BMW',\n",
       "       'PEUGEOT', 'HYUNDAI', 'VOLKSWAGEN', 'MINI', 'HONDA', 'SUBARU',\n",
       "       'SUZUKI', 'MITSUBISHI', 'JAGUAR', 'LAMBORGHINI', 'ROLLS-ROYCE',\n",
       "       'PORSCHE', 'FERRARI', 'RENAULT', 'MASERATI', 'ALFA ROMEO', 'VOLVO',\n",
       "       'CHEVROLET', 'BENTLEY', 'KIA', 'ASTON MARTIN', 'LAND ROVER',\n",
       "       'LEXUS', 'FORD', 'SKODA', 'LOTUS', 'INFINITI', 'OPEL', 'SSANGYONG',\n",
       "       'ALPINE', 'CITROEN', 'SEAT', 'MCLAREN', 'SAAB', 'HUMMER', 'MG',\n",
       "       'PROTON', 'PERODUA', 'MAXUS', 'DAIHATSU', 'DODGE', 'RUF', 'TESLA',\n",
       "       'BYD'], dtype=object)"
      ]
     },
     "execution_count": 51,
     "metadata": {},
     "output_type": "execute_result"
    }
   ],
   "source": [
    "df.make.unique()"
   ]
  },
  {
   "cell_type": "code",
   "execution_count": 52,
   "metadata": {},
   "outputs": [],
   "source": [
    "europe = ['MERCEDES-BENZ', 'AUDI', 'BMW', 'PEUGEOT', 'VOLKSWAGEN', 'MINI', 'JAGUAR', 'LAMBORGHINI', 'ROLLS-ROYCE', \n",
    "          'PORSCHE', 'FERRARI', 'RENAULT', 'MASERATI', 'ALFA ROMEO', 'VOLVO', 'BENTLEY', 'ASTON MARTIN', 'LAND ROVER', \n",
    "          'SKODA', 'LOTUS', 'OPEL', 'ALPINE', 'CITROEN', 'SEAT', 'MCLAREN', 'SAAB', 'HUMMER', 'MG', 'RUF']"
   ]
  },
  {
   "cell_type": "code",
   "execution_count": 53,
   "metadata": {},
   "outputs": [],
   "source": [
    "brand = []\n",
    "\n",
    "for item in df.make:\n",
    "    if item in europe:\n",
    "        brand.append('europe')\n",
    "    else:\n",
    "        brand.append('others')"
   ]
  },
  {
   "cell_type": "code",
   "execution_count": 54,
   "metadata": {},
   "outputs": [],
   "source": [
    "df['make'] = brand"
   ]
  },
  {
   "cell_type": "code",
   "execution_count": 55,
   "metadata": {},
   "outputs": [
    {
     "data": {
      "text/html": [
       "<div>\n",
       "<style scoped>\n",
       "    .dataframe tbody tr th:only-of-type {\n",
       "        vertical-align: middle;\n",
       "    }\n",
       "\n",
       "    .dataframe tbody tr th {\n",
       "        vertical-align: top;\n",
       "    }\n",
       "\n",
       "    .dataframe thead th {\n",
       "        text-align: right;\n",
       "    }\n",
       "</style>\n",
       "<table border=\"1\" class=\"dataframe\">\n",
       "  <thead>\n",
       "    <tr style=\"text-align: right;\">\n",
       "      <th></th>\n",
       "      <th>make</th>\n",
       "      <th>model</th>\n",
       "      <th>Price</th>\n",
       "      <th>car_age</th>\n",
       "      <th>COE Remaining</th>\n",
       "      <th>Manufactured</th>\n",
       "      <th>Mileage</th>\n",
       "      <th>No. of Owners</th>\n",
       "      <th>Transmission</th>\n",
       "      <th>Engine Capacity</th>\n",
       "      <th>fuel_type</th>\n",
       "      <th>COE</th>\n",
       "      <th>OMV</th>\n",
       "      <th>Paper Value</th>\n",
       "      <th>Depreciation</th>\n",
       "      <th>Type</th>\n",
       "      <th>electric</th>\n",
       "    </tr>\n",
       "  </thead>\n",
       "  <tbody>\n",
       "    <tr>\n",
       "      <th>0</th>\n",
       "      <td>europe</td>\n",
       "      <td>MERCEDES-BENZ C-CLASS C200K (COE TILL 10/2028)</td>\n",
       "      <td>63800</td>\n",
       "      <td>13</td>\n",
       "      <td>89</td>\n",
       "      <td>2008</td>\n",
       "      <td>165000</td>\n",
       "      <td>4</td>\n",
       "      <td>Auto</td>\n",
       "      <td>1796</td>\n",
       "      <td>Petrol</td>\n",
       "      <td>32279</td>\n",
       "      <td>43106</td>\n",
       "      <td>24081</td>\n",
       "      <td>8550</td>\n",
       "      <td>Luxury Sedan</td>\n",
       "      <td>No</td>\n",
       "    </tr>\n",
       "    <tr>\n",
       "      <th>1</th>\n",
       "      <td>others</td>\n",
       "      <td>NISSAN X-TRAIL 2.0A PREMIUM 7-SEATER SUNROOF</td>\n",
       "      <td>81800</td>\n",
       "      <td>4</td>\n",
       "      <td>70</td>\n",
       "      <td>2016</td>\n",
       "      <td>74000</td>\n",
       "      <td>1</td>\n",
       "      <td>Auto</td>\n",
       "      <td>1997</td>\n",
       "      <td>Petrol</td>\n",
       "      <td>53300</td>\n",
       "      <td>23955</td>\n",
       "      <td>50286</td>\n",
       "      <td>11810</td>\n",
       "      <td>SUV</td>\n",
       "      <td>No</td>\n",
       "    </tr>\n",
       "    <tr>\n",
       "      <th>2</th>\n",
       "      <td>others</td>\n",
       "      <td>NISSAN ELGRAND 2.5A HIGHWAY STAR</td>\n",
       "      <td>88000</td>\n",
       "      <td>5</td>\n",
       "      <td>62</td>\n",
       "      <td>2016</td>\n",
       "      <td>82225</td>\n",
       "      <td>1</td>\n",
       "      <td>Auto</td>\n",
       "      <td>2488</td>\n",
       "      <td>Petrol</td>\n",
       "      <td>57501</td>\n",
       "      <td>34974</td>\n",
       "      <td>60687</td>\n",
       "      <td>12950</td>\n",
       "      <td>MPV</td>\n",
       "      <td>No</td>\n",
       "    </tr>\n",
       "    <tr>\n",
       "      <th>3</th>\n",
       "      <td>europe</td>\n",
       "      <td>MERCEDES-BENZ CLS-CLASS CLS450 MILD HYBRID AMG...</td>\n",
       "      <td>367988</td>\n",
       "      <td>1</td>\n",
       "      <td>113</td>\n",
       "      <td>2020</td>\n",
       "      <td>652</td>\n",
       "      <td>1</td>\n",
       "      <td>Auto</td>\n",
       "      <td>2999</td>\n",
       "      <td>Petrol-Electric</td>\n",
       "      <td>32801</td>\n",
       "      <td>83552</td>\n",
       "      <td>122808</td>\n",
       "      <td>32440</td>\n",
       "      <td>Luxury Sedan</td>\n",
       "      <td>No</td>\n",
       "    </tr>\n",
       "    <tr>\n",
       "      <th>4</th>\n",
       "      <td>others</td>\n",
       "      <td>TOYOTA HARRIER 2.4A G (COE TILL 09/2029)</td>\n",
       "      <td>58500</td>\n",
       "      <td>12</td>\n",
       "      <td>100</td>\n",
       "      <td>2008</td>\n",
       "      <td>174000</td>\n",
       "      <td>5</td>\n",
       "      <td>Auto</td>\n",
       "      <td>2362</td>\n",
       "      <td>Petrol</td>\n",
       "      <td>37941</td>\n",
       "      <td>27778</td>\n",
       "      <td>31694</td>\n",
       "      <td>7000</td>\n",
       "      <td>SUV</td>\n",
       "      <td>No</td>\n",
       "    </tr>\n",
       "  </tbody>\n",
       "</table>\n",
       "</div>"
      ],
      "text/plain": [
       "     make                                              model   Price  car_age  \\\n",
       "0  europe     MERCEDES-BENZ C-CLASS C200K (COE TILL 10/2028)   63800       13   \n",
       "1  others       NISSAN X-TRAIL 2.0A PREMIUM 7-SEATER SUNROOF   81800        4   \n",
       "2  others                   NISSAN ELGRAND 2.5A HIGHWAY STAR   88000        5   \n",
       "3  europe  MERCEDES-BENZ CLS-CLASS CLS450 MILD HYBRID AMG...  367988        1   \n",
       "4  others           TOYOTA HARRIER 2.4A G (COE TILL 09/2029)   58500       12   \n",
       "\n",
       "   COE Remaining  Manufactured  Mileage  No. of Owners Transmission  \\\n",
       "0             89          2008   165000              4         Auto   \n",
       "1             70          2016    74000              1         Auto   \n",
       "2             62          2016    82225              1         Auto   \n",
       "3            113          2020      652              1         Auto   \n",
       "4            100          2008   174000              5         Auto   \n",
       "\n",
       "   Engine Capacity        fuel_type    COE    OMV  Paper Value  Depreciation  \\\n",
       "0             1796           Petrol  32279  43106        24081          8550   \n",
       "1             1997           Petrol  53300  23955        50286         11810   \n",
       "2             2488           Petrol  57501  34974        60687         12950   \n",
       "3             2999  Petrol-Electric  32801  83552       122808         32440   \n",
       "4             2362           Petrol  37941  27778        31694          7000   \n",
       "\n",
       "           Type electric  \n",
       "0  Luxury Sedan       No  \n",
       "1           SUV       No  \n",
       "2           MPV       No  \n",
       "3  Luxury Sedan       No  \n",
       "4           SUV       No  "
      ]
     },
     "execution_count": 55,
     "metadata": {},
     "output_type": "execute_result"
    }
   ],
   "source": [
    "df.head()"
   ]
  },
  {
   "cell_type": "markdown",
   "metadata": {},
   "source": [
    "We will drop **model** since **OMV, Engine Capacity** and **fuel_type** can somehow describe the car (is it exotic? is it petrol, diesel, elctric driven?). "
   ]
  },
  {
   "cell_type": "code",
   "execution_count": 56,
   "metadata": {},
   "outputs": [],
   "source": [
    "df.drop('model', axis=1, inplace=True)"
   ]
  },
  {
   "cell_type": "code",
   "execution_count": 57,
   "metadata": {},
   "outputs": [
    {
     "data": {
      "text/html": [
       "<div>\n",
       "<style scoped>\n",
       "    .dataframe tbody tr th:only-of-type {\n",
       "        vertical-align: middle;\n",
       "    }\n",
       "\n",
       "    .dataframe tbody tr th {\n",
       "        vertical-align: top;\n",
       "    }\n",
       "\n",
       "    .dataframe thead th {\n",
       "        text-align: right;\n",
       "    }\n",
       "</style>\n",
       "<table border=\"1\" class=\"dataframe\">\n",
       "  <thead>\n",
       "    <tr style=\"text-align: right;\">\n",
       "      <th></th>\n",
       "      <th>make</th>\n",
       "      <th>Price</th>\n",
       "      <th>car_age</th>\n",
       "      <th>COE Remaining</th>\n",
       "      <th>Manufactured</th>\n",
       "      <th>Mileage</th>\n",
       "      <th>No. of Owners</th>\n",
       "      <th>Transmission</th>\n",
       "      <th>Engine Capacity</th>\n",
       "      <th>fuel_type</th>\n",
       "      <th>COE</th>\n",
       "      <th>OMV</th>\n",
       "      <th>Paper Value</th>\n",
       "      <th>Depreciation</th>\n",
       "      <th>Type</th>\n",
       "      <th>electric</th>\n",
       "    </tr>\n",
       "  </thead>\n",
       "  <tbody>\n",
       "    <tr>\n",
       "      <th>0</th>\n",
       "      <td>europe</td>\n",
       "      <td>63800</td>\n",
       "      <td>13</td>\n",
       "      <td>89</td>\n",
       "      <td>2008</td>\n",
       "      <td>165000</td>\n",
       "      <td>4</td>\n",
       "      <td>Auto</td>\n",
       "      <td>1796</td>\n",
       "      <td>Petrol</td>\n",
       "      <td>32279</td>\n",
       "      <td>43106</td>\n",
       "      <td>24081</td>\n",
       "      <td>8550</td>\n",
       "      <td>Luxury Sedan</td>\n",
       "      <td>No</td>\n",
       "    </tr>\n",
       "    <tr>\n",
       "      <th>1</th>\n",
       "      <td>others</td>\n",
       "      <td>81800</td>\n",
       "      <td>4</td>\n",
       "      <td>70</td>\n",
       "      <td>2016</td>\n",
       "      <td>74000</td>\n",
       "      <td>1</td>\n",
       "      <td>Auto</td>\n",
       "      <td>1997</td>\n",
       "      <td>Petrol</td>\n",
       "      <td>53300</td>\n",
       "      <td>23955</td>\n",
       "      <td>50286</td>\n",
       "      <td>11810</td>\n",
       "      <td>SUV</td>\n",
       "      <td>No</td>\n",
       "    </tr>\n",
       "    <tr>\n",
       "      <th>2</th>\n",
       "      <td>others</td>\n",
       "      <td>88000</td>\n",
       "      <td>5</td>\n",
       "      <td>62</td>\n",
       "      <td>2016</td>\n",
       "      <td>82225</td>\n",
       "      <td>1</td>\n",
       "      <td>Auto</td>\n",
       "      <td>2488</td>\n",
       "      <td>Petrol</td>\n",
       "      <td>57501</td>\n",
       "      <td>34974</td>\n",
       "      <td>60687</td>\n",
       "      <td>12950</td>\n",
       "      <td>MPV</td>\n",
       "      <td>No</td>\n",
       "    </tr>\n",
       "    <tr>\n",
       "      <th>3</th>\n",
       "      <td>europe</td>\n",
       "      <td>367988</td>\n",
       "      <td>1</td>\n",
       "      <td>113</td>\n",
       "      <td>2020</td>\n",
       "      <td>652</td>\n",
       "      <td>1</td>\n",
       "      <td>Auto</td>\n",
       "      <td>2999</td>\n",
       "      <td>Petrol-Electric</td>\n",
       "      <td>32801</td>\n",
       "      <td>83552</td>\n",
       "      <td>122808</td>\n",
       "      <td>32440</td>\n",
       "      <td>Luxury Sedan</td>\n",
       "      <td>No</td>\n",
       "    </tr>\n",
       "    <tr>\n",
       "      <th>4</th>\n",
       "      <td>others</td>\n",
       "      <td>58500</td>\n",
       "      <td>12</td>\n",
       "      <td>100</td>\n",
       "      <td>2008</td>\n",
       "      <td>174000</td>\n",
       "      <td>5</td>\n",
       "      <td>Auto</td>\n",
       "      <td>2362</td>\n",
       "      <td>Petrol</td>\n",
       "      <td>37941</td>\n",
       "      <td>27778</td>\n",
       "      <td>31694</td>\n",
       "      <td>7000</td>\n",
       "      <td>SUV</td>\n",
       "      <td>No</td>\n",
       "    </tr>\n",
       "  </tbody>\n",
       "</table>\n",
       "</div>"
      ],
      "text/plain": [
       "     make   Price  car_age  COE Remaining  Manufactured  Mileage  \\\n",
       "0  europe   63800       13             89          2008   165000   \n",
       "1  others   81800        4             70          2016    74000   \n",
       "2  others   88000        5             62          2016    82225   \n",
       "3  europe  367988        1            113          2020      652   \n",
       "4  others   58500       12            100          2008   174000   \n",
       "\n",
       "   No. of Owners Transmission  Engine Capacity        fuel_type    COE    OMV  \\\n",
       "0              4         Auto             1796           Petrol  32279  43106   \n",
       "1              1         Auto             1997           Petrol  53300  23955   \n",
       "2              1         Auto             2488           Petrol  57501  34974   \n",
       "3              1         Auto             2999  Petrol-Electric  32801  83552   \n",
       "4              5         Auto             2362           Petrol  37941  27778   \n",
       "\n",
       "   Paper Value  Depreciation          Type electric  \n",
       "0        24081          8550  Luxury Sedan       No  \n",
       "1        50286         11810           SUV       No  \n",
       "2        60687         12950           MPV       No  \n",
       "3       122808         32440  Luxury Sedan       No  \n",
       "4        31694          7000           SUV       No  "
      ]
     },
     "execution_count": 57,
     "metadata": {},
     "output_type": "execute_result"
    }
   ],
   "source": [
    "df.head()"
   ]
  },
  {
   "cell_type": "markdown",
   "metadata": {},
   "source": [
    "Split the dataset into X (features) and y (label)."
   ]
  },
  {
   "cell_type": "code",
   "execution_count": 58,
   "metadata": {},
   "outputs": [],
   "source": [
    "X = df.drop('Price', axis=1)\n",
    "y = df.Price"
   ]
  },
  {
   "cell_type": "markdown",
   "metadata": {},
   "source": [
    "Check the outliers of the features:"
   ]
  },
  {
   "cell_type": "code",
   "execution_count": 59,
   "metadata": {},
   "outputs": [
    {
     "data": {
      "image/png": "[encoded data removed]",
      "text/plain": [
       "<Figure size 864x432 with 1 Axes>"
      ]
     },
     "metadata": {
      "needs_background": "light"
     },
     "output_type": "display_data"
    }
   ],
   "source": [
    "plt.figure(figsize=(12,6))\n",
    "\n",
    "sns.boxplot(data=X)\n",
    "\n",
    "plt.axes().set_facecolor('lightgrey')\n",
    "plt.xticks(rotation=45)\n",
    "\n",
    "plt.show()"
   ]
  },
  {
   "cell_type": "markdown",
   "metadata": {},
   "source": [
    "There are a lot of outliers in **Mileage, COE, OMV, Paper Value and Depreciation**. All these outliers are related to the car usage and brands and we will keep them.\n",
    "\n",
    "Check the distribution of the features."
   ]
  },
  {
   "cell_type": "code",
   "execution_count": 60,
   "metadata": {},
   "outputs": [
    {
     "data": {
      "image/png": "[encoded data removed]",
      "text/plain": [
       "<Figure size 864x432 with 6 Axes>"
      ]
     },
     "metadata": {
      "needs_background": "light"
     },
     "output_type": "display_data"
    }
   ],
   "source": [
    "skewed = ['Mileage', 'COE', 'OMV', 'Paper Value', 'Depreciation']\n",
    "\n",
    "X.hist(skewed, figsize=(12,6))\n",
    "\n",
    "plt.tight_layout()"
   ]
  },
  {
   "cell_type": "markdown",
   "metadata": {},
   "source": [
    "Other then **COE**, the rest are right skewd. We will adjust thier distribution using $log$. "
   ]
  },
  {
   "cell_type": "code",
   "execution_count": 61,
   "metadata": {},
   "outputs": [],
   "source": [
    "for item in skewed:\n",
    "    if item != 'COE':\n",
    "        X[item] = np.log(X[item])"
   ]
  },
  {
   "cell_type": "code",
   "execution_count": 62,
   "metadata": {},
   "outputs": [
    {
     "data": {
      "image/png": "[encoded data removed]",
      "text/plain": [
       "<Figure size 864x432 with 6 Axes>"
      ]
     },
     "metadata": {
      "needs_background": "light"
     },
     "output_type": "display_data"
    }
   ],
   "source": [
    "X.hist(skewed, figsize=(12,6))\n",
    "\n",
    "plt.tight_layout()"
   ]
  },
  {
   "cell_type": "markdown",
   "metadata": {},
   "source": [
    "Convert categorical features to numerical features.\n",
    "- use Dummies Encoding for **make, Transmission, fuel_type, electric**"
   ]
  },
  {
   "cell_type": "code",
   "execution_count": 63,
   "metadata": {},
   "outputs": [
    {
     "data": {
      "text/html": [
       "<div>\n",
       "<style scoped>\n",
       "    .dataframe tbody tr th:only-of-type {\n",
       "        vertical-align: middle;\n",
       "    }\n",
       "\n",
       "    .dataframe tbody tr th {\n",
       "        vertical-align: top;\n",
       "    }\n",
       "\n",
       "    .dataframe thead th {\n",
       "        text-align: right;\n",
       "    }\n",
       "</style>\n",
       "<table border=\"1\" class=\"dataframe\">\n",
       "  <thead>\n",
       "    <tr style=\"text-align: right;\">\n",
       "      <th></th>\n",
       "      <th>0</th>\n",
       "      <th>1</th>\n",
       "      <th>2</th>\n",
       "      <th>3</th>\n",
       "      <th>4</th>\n",
       "    </tr>\n",
       "  </thead>\n",
       "  <tbody>\n",
       "    <tr>\n",
       "      <th>car_age</th>\n",
       "      <td>13</td>\n",
       "      <td>4</td>\n",
       "      <td>5</td>\n",
       "      <td>1</td>\n",
       "      <td>12</td>\n",
       "    </tr>\n",
       "    <tr>\n",
       "      <th>COE Remaining</th>\n",
       "      <td>89</td>\n",
       "      <td>70</td>\n",
       "      <td>62</td>\n",
       "      <td>113</td>\n",
       "      <td>100</td>\n",
       "    </tr>\n",
       "    <tr>\n",
       "      <th>Manufactured</th>\n",
       "      <td>2008</td>\n",
       "      <td>2016</td>\n",
       "      <td>2016</td>\n",
       "      <td>2020</td>\n",
       "      <td>2008</td>\n",
       "    </tr>\n",
       "    <tr>\n",
       "      <th>Mileage</th>\n",
       "      <td>12.01</td>\n",
       "      <td>11.21</td>\n",
       "      <td>11.32</td>\n",
       "      <td>6.48</td>\n",
       "      <td>12.07</td>\n",
       "    </tr>\n",
       "    <tr>\n",
       "      <th>No. of Owners</th>\n",
       "      <td>4</td>\n",
       "      <td>1</td>\n",
       "      <td>1</td>\n",
       "      <td>1</td>\n",
       "      <td>5</td>\n",
       "    </tr>\n",
       "    <tr>\n",
       "      <th>Engine Capacity</th>\n",
       "      <td>1796</td>\n",
       "      <td>1997</td>\n",
       "      <td>2488</td>\n",
       "      <td>2999</td>\n",
       "      <td>2362</td>\n",
       "    </tr>\n",
       "    <tr>\n",
       "      <th>COE</th>\n",
       "      <td>32279</td>\n",
       "      <td>53300</td>\n",
       "      <td>57501</td>\n",
       "      <td>32801</td>\n",
       "      <td>37941</td>\n",
       "    </tr>\n",
       "    <tr>\n",
       "      <th>OMV</th>\n",
       "      <td>10.67</td>\n",
       "      <td>10.08</td>\n",
       "      <td>10.46</td>\n",
       "      <td>11.33</td>\n",
       "      <td>10.23</td>\n",
       "    </tr>\n",
       "    <tr>\n",
       "      <th>Paper Value</th>\n",
       "      <td>10.09</td>\n",
       "      <td>10.83</td>\n",
       "      <td>11.01</td>\n",
       "      <td>11.72</td>\n",
       "      <td>10.36</td>\n",
       "    </tr>\n",
       "    <tr>\n",
       "      <th>Depreciation</th>\n",
       "      <td>9.05</td>\n",
       "      <td>9.38</td>\n",
       "      <td>9.47</td>\n",
       "      <td>10.39</td>\n",
       "      <td>8.85</td>\n",
       "    </tr>\n",
       "    <tr>\n",
       "      <th>Type</th>\n",
       "      <td>Luxury Sedan</td>\n",
       "      <td>SUV</td>\n",
       "      <td>MPV</td>\n",
       "      <td>Luxury Sedan</td>\n",
       "      <td>SUV</td>\n",
       "    </tr>\n",
       "    <tr>\n",
       "      <th>make_others</th>\n",
       "      <td>0</td>\n",
       "      <td>1</td>\n",
       "      <td>1</td>\n",
       "      <td>0</td>\n",
       "      <td>1</td>\n",
       "    </tr>\n",
       "    <tr>\n",
       "      <th>Transmission_Manual</th>\n",
       "      <td>0</td>\n",
       "      <td>0</td>\n",
       "      <td>0</td>\n",
       "      <td>0</td>\n",
       "      <td>0</td>\n",
       "    </tr>\n",
       "    <tr>\n",
       "      <th>fuel_type_Electric</th>\n",
       "      <td>0</td>\n",
       "      <td>0</td>\n",
       "      <td>0</td>\n",
       "      <td>0</td>\n",
       "      <td>0</td>\n",
       "    </tr>\n",
       "    <tr>\n",
       "      <th>fuel_type_Petrol</th>\n",
       "      <td>1</td>\n",
       "      <td>1</td>\n",
       "      <td>1</td>\n",
       "      <td>0</td>\n",
       "      <td>1</td>\n",
       "    </tr>\n",
       "    <tr>\n",
       "      <th>fuel_type_Petrol-Electric</th>\n",
       "      <td>0</td>\n",
       "      <td>0</td>\n",
       "      <td>0</td>\n",
       "      <td>1</td>\n",
       "      <td>0</td>\n",
       "    </tr>\n",
       "    <tr>\n",
       "      <th>electric_No</th>\n",
       "      <td>1</td>\n",
       "      <td>1</td>\n",
       "      <td>1</td>\n",
       "      <td>1</td>\n",
       "      <td>1</td>\n",
       "    </tr>\n",
       "  </tbody>\n",
       "</table>\n",
       "</div>"
      ],
      "text/plain": [
       "                                      0      1      2             3      4\n",
       "car_age                              13      4      5             1     12\n",
       "COE Remaining                        89     70     62           113    100\n",
       "Manufactured                       2008   2016   2016          2020   2008\n",
       "Mileage                           12.01  11.21  11.32          6.48  12.07\n",
       "No. of Owners                         4      1      1             1      5\n",
       "Engine Capacity                    1796   1997   2488          2999   2362\n",
       "COE                               32279  53300  57501         32801  37941\n",
       "OMV                               10.67  10.08  10.46         11.33  10.23\n",
       "Paper Value                       10.09  10.83  11.01         11.72  10.36\n",
       "Depreciation                       9.05   9.38   9.47         10.39   8.85\n",
       "Type                       Luxury Sedan    SUV    MPV  Luxury Sedan    SUV\n",
       "make_others                           0      1      1             0      1\n",
       "Transmission_Manual                   0      0      0             0      0\n",
       "fuel_type_Electric                    0      0      0             0      0\n",
       "fuel_type_Petrol                      1      1      1             0      1\n",
       "fuel_type_Petrol-Electric             0      0      0             1      0\n",
       "electric_No                           1      1      1             1      1"
      ]
     },
     "execution_count": 63,
     "metadata": {},
     "output_type": "execute_result"
    }
   ],
   "source": [
    "X = pd.get_dummies(X, columns=['make', 'Transmission', 'fuel_type', 'electric'], drop_first=True)\n",
    "X.head().T"
   ]
  },
  {
   "cell_type": "markdown",
   "metadata": {},
   "source": [
    "- use Frequency Encoding for **Type**"
   ]
  },
  {
   "cell_type": "code",
   "execution_count": 64,
   "metadata": {},
   "outputs": [],
   "source": [
    "count_type = X.Type.value_counts()"
   ]
  },
  {
   "cell_type": "code",
   "execution_count": 65,
   "metadata": {},
   "outputs": [
    {
     "data": {
      "text/html": [
       "<div>\n",
       "<style scoped>\n",
       "    .dataframe tbody tr th:only-of-type {\n",
       "        vertical-align: middle;\n",
       "    }\n",
       "\n",
       "    .dataframe tbody tr th {\n",
       "        vertical-align: top;\n",
       "    }\n",
       "\n",
       "    .dataframe thead th {\n",
       "        text-align: right;\n",
       "    }\n",
       "</style>\n",
       "<table border=\"1\" class=\"dataframe\">\n",
       "  <thead>\n",
       "    <tr style=\"text-align: right;\">\n",
       "      <th></th>\n",
       "      <th>0</th>\n",
       "      <th>1</th>\n",
       "      <th>2</th>\n",
       "      <th>3</th>\n",
       "      <th>4</th>\n",
       "    </tr>\n",
       "  </thead>\n",
       "  <tbody>\n",
       "    <tr>\n",
       "      <th>car_age</th>\n",
       "      <td>13</td>\n",
       "      <td>4</td>\n",
       "      <td>5</td>\n",
       "      <td>1</td>\n",
       "      <td>12</td>\n",
       "    </tr>\n",
       "    <tr>\n",
       "      <th>COE Remaining</th>\n",
       "      <td>89</td>\n",
       "      <td>70</td>\n",
       "      <td>62</td>\n",
       "      <td>113</td>\n",
       "      <td>100</td>\n",
       "    </tr>\n",
       "    <tr>\n",
       "      <th>Manufactured</th>\n",
       "      <td>2008</td>\n",
       "      <td>2016</td>\n",
       "      <td>2016</td>\n",
       "      <td>2020</td>\n",
       "      <td>2008</td>\n",
       "    </tr>\n",
       "    <tr>\n",
       "      <th>Mileage</th>\n",
       "      <td>12.01</td>\n",
       "      <td>11.21</td>\n",
       "      <td>11.32</td>\n",
       "      <td>6.48</td>\n",
       "      <td>12.07</td>\n",
       "    </tr>\n",
       "    <tr>\n",
       "      <th>No. of Owners</th>\n",
       "      <td>4</td>\n",
       "      <td>1</td>\n",
       "      <td>1</td>\n",
       "      <td>1</td>\n",
       "      <td>5</td>\n",
       "    </tr>\n",
       "    <tr>\n",
       "      <th>Engine Capacity</th>\n",
       "      <td>1796</td>\n",
       "      <td>1997</td>\n",
       "      <td>2488</td>\n",
       "      <td>2999</td>\n",
       "      <td>2362</td>\n",
       "    </tr>\n",
       "    <tr>\n",
       "      <th>COE</th>\n",
       "      <td>32279</td>\n",
       "      <td>53300</td>\n",
       "      <td>57501</td>\n",
       "      <td>32801</td>\n",
       "      <td>37941</td>\n",
       "    </tr>\n",
       "    <tr>\n",
       "      <th>OMV</th>\n",
       "      <td>10.67</td>\n",
       "      <td>10.08</td>\n",
       "      <td>10.46</td>\n",
       "      <td>11.33</td>\n",
       "      <td>10.23</td>\n",
       "    </tr>\n",
       "    <tr>\n",
       "      <th>Paper Value</th>\n",
       "      <td>10.09</td>\n",
       "      <td>10.83</td>\n",
       "      <td>11.01</td>\n",
       "      <td>11.72</td>\n",
       "      <td>10.36</td>\n",
       "    </tr>\n",
       "    <tr>\n",
       "      <th>Depreciation</th>\n",
       "      <td>9.05</td>\n",
       "      <td>9.38</td>\n",
       "      <td>9.47</td>\n",
       "      <td>10.39</td>\n",
       "      <td>8.85</td>\n",
       "    </tr>\n",
       "    <tr>\n",
       "      <th>Type</th>\n",
       "      <td>Luxury Sedan</td>\n",
       "      <td>SUV</td>\n",
       "      <td>MPV</td>\n",
       "      <td>Luxury Sedan</td>\n",
       "      <td>SUV</td>\n",
       "    </tr>\n",
       "    <tr>\n",
       "      <th>make_others</th>\n",
       "      <td>0</td>\n",
       "      <td>1</td>\n",
       "      <td>1</td>\n",
       "      <td>0</td>\n",
       "      <td>1</td>\n",
       "    </tr>\n",
       "    <tr>\n",
       "      <th>Transmission_Manual</th>\n",
       "      <td>0</td>\n",
       "      <td>0</td>\n",
       "      <td>0</td>\n",
       "      <td>0</td>\n",
       "      <td>0</td>\n",
       "    </tr>\n",
       "    <tr>\n",
       "      <th>fuel_type_Electric</th>\n",
       "      <td>0</td>\n",
       "      <td>0</td>\n",
       "      <td>0</td>\n",
       "      <td>0</td>\n",
       "      <td>0</td>\n",
       "    </tr>\n",
       "    <tr>\n",
       "      <th>fuel_type_Petrol</th>\n",
       "      <td>1</td>\n",
       "      <td>1</td>\n",
       "      <td>1</td>\n",
       "      <td>0</td>\n",
       "      <td>1</td>\n",
       "    </tr>\n",
       "    <tr>\n",
       "      <th>fuel_type_Petrol-Electric</th>\n",
       "      <td>0</td>\n",
       "      <td>0</td>\n",
       "      <td>0</td>\n",
       "      <td>1</td>\n",
       "      <td>0</td>\n",
       "    </tr>\n",
       "    <tr>\n",
       "      <th>electric_No</th>\n",
       "      <td>1</td>\n",
       "      <td>1</td>\n",
       "      <td>1</td>\n",
       "      <td>1</td>\n",
       "      <td>1</td>\n",
       "    </tr>\n",
       "    <tr>\n",
       "      <th>type_enc</th>\n",
       "      <td>0.22</td>\n",
       "      <td>0.23</td>\n",
       "      <td>0.12</td>\n",
       "      <td>0.22</td>\n",
       "      <td>0.23</td>\n",
       "    </tr>\n",
       "  </tbody>\n",
       "</table>\n",
       "</div>"
      ],
      "text/plain": [
       "                                      0      1      2             3      4\n",
       "car_age                              13      4      5             1     12\n",
       "COE Remaining                        89     70     62           113    100\n",
       "Manufactured                       2008   2016   2016          2020   2008\n",
       "Mileage                           12.01  11.21  11.32          6.48  12.07\n",
       "No. of Owners                         4      1      1             1      5\n",
       "Engine Capacity                    1796   1997   2488          2999   2362\n",
       "COE                               32279  53300  57501         32801  37941\n",
       "OMV                               10.67  10.08  10.46         11.33  10.23\n",
       "Paper Value                       10.09  10.83  11.01         11.72  10.36\n",
       "Depreciation                       9.05   9.38   9.47         10.39   8.85\n",
       "Type                       Luxury Sedan    SUV    MPV  Luxury Sedan    SUV\n",
       "make_others                           0      1      1             0      1\n",
       "Transmission_Manual                   0      0      0             0      0\n",
       "fuel_type_Electric                    0      0      0             0      0\n",
       "fuel_type_Petrol                      1      1      1             0      1\n",
       "fuel_type_Petrol-Electric             0      0      0             1      0\n",
       "electric_No                           1      1      1             1      1\n",
       "type_enc                           0.22   0.23   0.12          0.22   0.23"
      ]
     },
     "execution_count": 65,
     "metadata": {},
     "output_type": "execute_result"
    }
   ],
   "source": [
    "encoding = count_type/len(X.Type)\n",
    "X['type_enc'] = X.Type.map(encoding)\n",
    "\n",
    "X.head().T"
   ]
  },
  {
   "cell_type": "code",
   "execution_count": 66,
   "metadata": {},
   "outputs": [],
   "source": [
    "X.drop('Type', axis=1, inplace=True)"
   ]
  },
  {
   "cell_type": "markdown",
   "metadata": {},
   "source": [
    "Split the dataset into train and test sets."
   ]
  },
  {
   "cell_type": "code",
   "execution_count": 67,
   "metadata": {},
   "outputs": [],
   "source": [
    "X_train, X_test, y_train, y_test = train_test_split(X, y, test_size=0.2, random_state=31)"
   ]
  },
  {
   "cell_type": "markdown",
   "metadata": {},
   "source": [
    "Perform Feature Scaling on **car_age, COE Remaining, Manufactured, Mileage, No. of Owners, Engine Capacity, COE, OMV, Paper Value** and **Depreciation**."
   ]
  },
  {
   "cell_type": "code",
   "execution_count": 68,
   "metadata": {},
   "outputs": [],
   "source": [
    "X_train_scale = X_train.copy()\n",
    "X_test_scale = X_test.copy()"
   ]
  },
  {
   "cell_type": "code",
   "execution_count": 69,
   "metadata": {},
   "outputs": [],
   "source": [
    "# get the features name that we are scaling.\n",
    "\n",
    "col_to_scale = X.columns[:10]"
   ]
  },
  {
   "cell_type": "code",
   "execution_count": 70,
   "metadata": {},
   "outputs": [],
   "source": [
    "standardscaler = StandardScaler()\n",
    "\n",
    "for item in col_to_scale:\n",
    "    X_train_scale[item] = standardscaler.fit_transform(X_train[[item]])\n",
    "    X_test_scale[item] = standardscaler.fit_transform(X_test[[item]])"
   ]
  },
  {
   "cell_type": "code",
   "execution_count": 71,
   "metadata": {
    "scrolled": true
   },
   "outputs": [
    {
     "data": {
      "text/html": [
       "<div>\n",
       "<style scoped>\n",
       "    .dataframe tbody tr th:only-of-type {\n",
       "        vertical-align: middle;\n",
       "    }\n",
       "\n",
       "    .dataframe tbody tr th {\n",
       "        vertical-align: top;\n",
       "    }\n",
       "\n",
       "    .dataframe thead th {\n",
       "        text-align: right;\n",
       "    }\n",
       "</style>\n",
       "<table border=\"1\" class=\"dataframe\">\n",
       "  <thead>\n",
       "    <tr style=\"text-align: right;\">\n",
       "      <th></th>\n",
       "      <th>3630</th>\n",
       "      <th>827</th>\n",
       "      <th>1911</th>\n",
       "      <th>3965</th>\n",
       "      <th>1647</th>\n",
       "    </tr>\n",
       "  </thead>\n",
       "  <tbody>\n",
       "    <tr>\n",
       "      <th>car_age</th>\n",
       "      <td>-0.93</td>\n",
       "      <td>1.84</td>\n",
       "      <td>-0.17</td>\n",
       "      <td>0.08</td>\n",
       "      <td>-1.18</td>\n",
       "    </tr>\n",
       "    <tr>\n",
       "      <th>COE Remaining</th>\n",
       "      <td>0.94</td>\n",
       "      <td>0.42</td>\n",
       "      <td>-0.58</td>\n",
       "      <td>-0.80</td>\n",
       "      <td>1.27</td>\n",
       "    </tr>\n",
       "    <tr>\n",
       "      <th>Manufactured</th>\n",
       "      <td>1.05</td>\n",
       "      <td>-1.75</td>\n",
       "      <td>0.29</td>\n",
       "      <td>0.03</td>\n",
       "      <td>1.05</td>\n",
       "    </tr>\n",
       "    <tr>\n",
       "      <th>Mileage</th>\n",
       "      <td>-0.40</td>\n",
       "      <td>0.70</td>\n",
       "      <td>0.02</td>\n",
       "      <td>0.41</td>\n",
       "      <td>-1.64</td>\n",
       "    </tr>\n",
       "    <tr>\n",
       "      <th>No. of Owners</th>\n",
       "      <td>-0.70</td>\n",
       "      <td>1.76</td>\n",
       "      <td>-0.70</td>\n",
       "      <td>-0.70</td>\n",
       "      <td>-0.70</td>\n",
       "    </tr>\n",
       "    <tr>\n",
       "      <th>Engine Capacity</th>\n",
       "      <td>-0.57</td>\n",
       "      <td>2.25</td>\n",
       "      <td>1.27</td>\n",
       "      <td>-0.94</td>\n",
       "      <td>5.67</td>\n",
       "    </tr>\n",
       "    <tr>\n",
       "      <th>COE</th>\n",
       "      <td>-0.87</td>\n",
       "      <td>-0.66</td>\n",
       "      <td>0.30</td>\n",
       "      <td>0.68</td>\n",
       "      <td>-0.50</td>\n",
       "    </tr>\n",
       "    <tr>\n",
       "      <th>OMV</th>\n",
       "      <td>-0.37</td>\n",
       "      <td>1.46</td>\n",
       "      <td>1.34</td>\n",
       "      <td>-0.79</td>\n",
       "      <td>3.73</td>\n",
       "    </tr>\n",
       "    <tr>\n",
       "      <th>Paper Value</th>\n",
       "      <td>-0.07</td>\n",
       "      <td>-0.60</td>\n",
       "      <td>1.12</td>\n",
       "      <td>-0.23</td>\n",
       "      <td>3.16</td>\n",
       "    </tr>\n",
       "    <tr>\n",
       "      <th>Depreciation</th>\n",
       "      <td>-0.72</td>\n",
       "      <td>1.63</td>\n",
       "      <td>1.93</td>\n",
       "      <td>-0.46</td>\n",
       "      <td>-0.47</td>\n",
       "    </tr>\n",
       "    <tr>\n",
       "      <th>make_others</th>\n",
       "      <td>1.00</td>\n",
       "      <td>1.00</td>\n",
       "      <td>0.00</td>\n",
       "      <td>1.00</td>\n",
       "      <td>0.00</td>\n",
       "    </tr>\n",
       "    <tr>\n",
       "      <th>Transmission_Manual</th>\n",
       "      <td>0.00</td>\n",
       "      <td>0.00</td>\n",
       "      <td>0.00</td>\n",
       "      <td>0.00</td>\n",
       "      <td>0.00</td>\n",
       "    </tr>\n",
       "    <tr>\n",
       "      <th>fuel_type_Electric</th>\n",
       "      <td>0.00</td>\n",
       "      <td>0.00</td>\n",
       "      <td>0.00</td>\n",
       "      <td>0.00</td>\n",
       "      <td>0.00</td>\n",
       "    </tr>\n",
       "    <tr>\n",
       "      <th>fuel_type_Petrol</th>\n",
       "      <td>1.00</td>\n",
       "      <td>1.00</td>\n",
       "      <td>1.00</td>\n",
       "      <td>1.00</td>\n",
       "      <td>1.00</td>\n",
       "    </tr>\n",
       "    <tr>\n",
       "      <th>fuel_type_Petrol-Electric</th>\n",
       "      <td>0.00</td>\n",
       "      <td>0.00</td>\n",
       "      <td>0.00</td>\n",
       "      <td>0.00</td>\n",
       "      <td>0.00</td>\n",
       "    </tr>\n",
       "    <tr>\n",
       "      <th>electric_No</th>\n",
       "      <td>1.00</td>\n",
       "      <td>1.00</td>\n",
       "      <td>1.00</td>\n",
       "      <td>1.00</td>\n",
       "      <td>1.00</td>\n",
       "    </tr>\n",
       "    <tr>\n",
       "      <th>type_enc</th>\n",
       "      <td>0.12</td>\n",
       "      <td>0.12</td>\n",
       "      <td>0.23</td>\n",
       "      <td>0.23</td>\n",
       "      <td>0.12</td>\n",
       "    </tr>\n",
       "  </tbody>\n",
       "</table>\n",
       "</div>"
      ],
      "text/plain": [
       "                           3630  827   1911  3965  1647\n",
       "car_age                   -0.93  1.84 -0.17  0.08 -1.18\n",
       "COE Remaining              0.94  0.42 -0.58 -0.80  1.27\n",
       "Manufactured               1.05 -1.75  0.29  0.03  1.05\n",
       "Mileage                   -0.40  0.70  0.02  0.41 -1.64\n",
       "No. of Owners             -0.70  1.76 -0.70 -0.70 -0.70\n",
       "Engine Capacity           -0.57  2.25  1.27 -0.94  5.67\n",
       "COE                       -0.87 -0.66  0.30  0.68 -0.50\n",
       "OMV                       -0.37  1.46  1.34 -0.79  3.73\n",
       "Paper Value               -0.07 -0.60  1.12 -0.23  3.16\n",
       "Depreciation              -0.72  1.63  1.93 -0.46 -0.47\n",
       "make_others                1.00  1.00  0.00  1.00  0.00\n",
       "Transmission_Manual        0.00  0.00  0.00  0.00  0.00\n",
       "fuel_type_Electric         0.00  0.00  0.00  0.00  0.00\n",
       "fuel_type_Petrol           1.00  1.00  1.00  1.00  1.00\n",
       "fuel_type_Petrol-Electric  0.00  0.00  0.00  0.00  0.00\n",
       "electric_No                1.00  1.00  1.00  1.00  1.00\n",
       "type_enc                   0.12  0.12  0.23  0.23  0.12"
      ]
     },
     "execution_count": 71,
     "metadata": {},
     "output_type": "execute_result"
    }
   ],
   "source": [
    "X_train_scale.head().T"
   ]
  },
  {
   "cell_type": "markdown",
   "metadata": {},
   "source": [
    "Perform a multicollinearity check to see any correlations between features."
   ]
  },
  {
   "cell_type": "code",
   "execution_count": 72,
   "metadata": {},
   "outputs": [],
   "source": [
    "cor = X_train_scale.corr()"
   ]
  },
  {
   "cell_type": "code",
   "execution_count": 73,
   "metadata": {},
   "outputs": [
    {
     "data": {
      "image/png": "[encoded data removed]",
      "text/plain": [
       "<Figure size 864x432 with 2 Axes>"
      ]
     },
     "metadata": {
      "needs_background": "light"
     },
     "output_type": "display_data"
    }
   ],
   "source": [
    "plt.figure(figsize=(12,6))\n",
    "sns.heatmap(cor, annot=True, cmap='coolwarm')\n",
    "plt.savefig('corr.png')"
   ]
  },
  {
   "cell_type": "markdown",
   "metadata": {},
   "source": [
    "From the heatmap, we can see that:\n",
    "- Highly correlated (> 0.8 or < -0.8):\n",
    "    - **Manufactured, car_age**\n",
    "    - **electric_No, fuel_type_Electric**\n",
    "\n",
    "We will drop **Manufactured** and **electric_No**."
   ]
  },
  {
   "cell_type": "code",
   "execution_count": 74,
   "metadata": {},
   "outputs": [],
   "source": [
    "X_train_scale.drop(['Manufactured', 'electric_No'], axis=1, inplace=True)\n",
    "X_test_scale.drop(['Manufactured', 'electric_No'], axis=1, inplace=True)"
   ]
  },
  {
   "cell_type": "code",
   "execution_count": 75,
   "metadata": {},
   "outputs": [
    {
     "data": {
      "text/html": [
       "<div>\n",
       "<style scoped>\n",
       "    .dataframe tbody tr th:only-of-type {\n",
       "        vertical-align: middle;\n",
       "    }\n",
       "\n",
       "    .dataframe tbody tr th {\n",
       "        vertical-align: top;\n",
       "    }\n",
       "\n",
       "    .dataframe thead th {\n",
       "        text-align: right;\n",
       "    }\n",
       "</style>\n",
       "<table border=\"1\" class=\"dataframe\">\n",
       "  <thead>\n",
       "    <tr style=\"text-align: right;\">\n",
       "      <th></th>\n",
       "      <th>3630</th>\n",
       "      <th>827</th>\n",
       "      <th>1911</th>\n",
       "      <th>3965</th>\n",
       "      <th>1647</th>\n",
       "    </tr>\n",
       "  </thead>\n",
       "  <tbody>\n",
       "    <tr>\n",
       "      <th>car_age</th>\n",
       "      <td>-0.93</td>\n",
       "      <td>1.84</td>\n",
       "      <td>-0.17</td>\n",
       "      <td>0.08</td>\n",
       "      <td>-1.18</td>\n",
       "    </tr>\n",
       "    <tr>\n",
       "      <th>COE Remaining</th>\n",
       "      <td>0.94</td>\n",
       "      <td>0.42</td>\n",
       "      <td>-0.58</td>\n",
       "      <td>-0.80</td>\n",
       "      <td>1.27</td>\n",
       "    </tr>\n",
       "    <tr>\n",
       "      <th>Mileage</th>\n",
       "      <td>-0.40</td>\n",
       "      <td>0.70</td>\n",
       "      <td>0.02</td>\n",
       "      <td>0.41</td>\n",
       "      <td>-1.64</td>\n",
       "    </tr>\n",
       "    <tr>\n",
       "      <th>No. of Owners</th>\n",
       "      <td>-0.70</td>\n",
       "      <td>1.76</td>\n",
       "      <td>-0.70</td>\n",
       "      <td>-0.70</td>\n",
       "      <td>-0.70</td>\n",
       "    </tr>\n",
       "    <tr>\n",
       "      <th>Engine Capacity</th>\n",
       "      <td>-0.57</td>\n",
       "      <td>2.25</td>\n",
       "      <td>1.27</td>\n",
       "      <td>-0.94</td>\n",
       "      <td>5.67</td>\n",
       "    </tr>\n",
       "    <tr>\n",
       "      <th>COE</th>\n",
       "      <td>-0.87</td>\n",
       "      <td>-0.66</td>\n",
       "      <td>0.30</td>\n",
       "      <td>0.68</td>\n",
       "      <td>-0.50</td>\n",
       "    </tr>\n",
       "    <tr>\n",
       "      <th>OMV</th>\n",
       "      <td>-0.37</td>\n",
       "      <td>1.46</td>\n",
       "      <td>1.34</td>\n",
       "      <td>-0.79</td>\n",
       "      <td>3.73</td>\n",
       "    </tr>\n",
       "    <tr>\n",
       "      <th>Paper Value</th>\n",
       "      <td>-0.07</td>\n",
       "      <td>-0.60</td>\n",
       "      <td>1.12</td>\n",
       "      <td>-0.23</td>\n",
       "      <td>3.16</td>\n",
       "    </tr>\n",
       "    <tr>\n",
       "      <th>Depreciation</th>\n",
       "      <td>-0.72</td>\n",
       "      <td>1.63</td>\n",
       "      <td>1.93</td>\n",
       "      <td>-0.46</td>\n",
       "      <td>-0.47</td>\n",
       "    </tr>\n",
       "    <tr>\n",
       "      <th>make_others</th>\n",
       "      <td>1.00</td>\n",
       "      <td>1.00</td>\n",
       "      <td>0.00</td>\n",
       "      <td>1.00</td>\n",
       "      <td>0.00</td>\n",
       "    </tr>\n",
       "    <tr>\n",
       "      <th>Transmission_Manual</th>\n",
       "      <td>0.00</td>\n",
       "      <td>0.00</td>\n",
       "      <td>0.00</td>\n",
       "      <td>0.00</td>\n",
       "      <td>0.00</td>\n",
       "    </tr>\n",
       "    <tr>\n",
       "      <th>fuel_type_Electric</th>\n",
       "      <td>0.00</td>\n",
       "      <td>0.00</td>\n",
       "      <td>0.00</td>\n",
       "      <td>0.00</td>\n",
       "      <td>0.00</td>\n",
       "    </tr>\n",
       "    <tr>\n",
       "      <th>fuel_type_Petrol</th>\n",
       "      <td>1.00</td>\n",
       "      <td>1.00</td>\n",
       "      <td>1.00</td>\n",
       "      <td>1.00</td>\n",
       "      <td>1.00</td>\n",
       "    </tr>\n",
       "    <tr>\n",
       "      <th>fuel_type_Petrol-Electric</th>\n",
       "      <td>0.00</td>\n",
       "      <td>0.00</td>\n",
       "      <td>0.00</td>\n",
       "      <td>0.00</td>\n",
       "      <td>0.00</td>\n",
       "    </tr>\n",
       "    <tr>\n",
       "      <th>type_enc</th>\n",
       "      <td>0.12</td>\n",
       "      <td>0.12</td>\n",
       "      <td>0.23</td>\n",
       "      <td>0.23</td>\n",
       "      <td>0.12</td>\n",
       "    </tr>\n",
       "  </tbody>\n",
       "</table>\n",
       "</div>"
      ],
      "text/plain": [
       "                           3630  827   1911  3965  1647\n",
       "car_age                   -0.93  1.84 -0.17  0.08 -1.18\n",
       "COE Remaining              0.94  0.42 -0.58 -0.80  1.27\n",
       "Mileage                   -0.40  0.70  0.02  0.41 -1.64\n",
       "No. of Owners             -0.70  1.76 -0.70 -0.70 -0.70\n",
       "Engine Capacity           -0.57  2.25  1.27 -0.94  5.67\n",
       "COE                       -0.87 -0.66  0.30  0.68 -0.50\n",
       "OMV                       -0.37  1.46  1.34 -0.79  3.73\n",
       "Paper Value               -0.07 -0.60  1.12 -0.23  3.16\n",
       "Depreciation              -0.72  1.63  1.93 -0.46 -0.47\n",
       "make_others                1.00  1.00  0.00  1.00  0.00\n",
       "Transmission_Manual        0.00  0.00  0.00  0.00  0.00\n",
       "fuel_type_Electric         0.00  0.00  0.00  0.00  0.00\n",
       "fuel_type_Petrol           1.00  1.00  1.00  1.00  1.00\n",
       "fuel_type_Petrol-Electric  0.00  0.00  0.00  0.00  0.00\n",
       "type_enc                   0.12  0.12  0.23  0.23  0.12"
      ]
     },
     "execution_count": 75,
     "metadata": {},
     "output_type": "execute_result"
    }
   ],
   "source": [
    "X_train_scale.head().T"
   ]
  },
  {
   "cell_type": "markdown",
   "metadata": {},
   "source": [
    "###  Training the models\n",
    "\n",
    "We will use Lazy Predict to see which basic model work the best."
   ]
  },
  {
   "cell_type": "code",
   "execution_count": 76,
   "metadata": {
    "scrolled": true
   },
   "outputs": [
    {
     "name": "stderr",
     "output_type": "stream",
     "text": [
      "100%|██████████| 42/42 [00:41<00:00,  1.01it/s]\n"
     ]
    }
   ],
   "source": [
    "reg = LazyRegressor(verbose=0, ignore_warnings=False, custom_metric=None, random_state=31)\n",
    "models, predictions = reg.fit(X_train_scale, X_test_scale, y_train, y_test)"
   ]
  },
  {
   "cell_type": "code",
   "execution_count": 77,
   "metadata": {},
   "outputs": [
    {
     "name": "stdout",
     "output_type": "stream",
     "text": [
      "                               Adjusted R-Squared  R-Squared      RMSE  \\\n",
      "Model                                                                    \n",
      "ExtraTreesRegressor                          0.98       0.98  16064.31   \n",
      "GradientBoostingRegressor                    0.96       0.96  20437.44   \n",
      "RandomForestRegressor                        0.96       0.96  21570.59   \n",
      "HistGradientBoostingRegressor                0.96       0.96  21659.62   \n",
      "LGBMRegressor                                0.96       0.96  21956.17   \n",
      "BaggingRegressor                             0.95       0.95  22288.95   \n",
      "XGBRegressor                                 0.95       0.95  22680.95   \n",
      "ExtraTreeRegressor                           0.95       0.95  23856.94   \n",
      "KNeighborsRegressor                          0.94       0.94  26042.92   \n",
      "DecisionTreeRegressor                        0.93       0.93  27339.44   \n",
      "PoissonRegressor                             0.92       0.92  28746.25   \n",
      "GaussianProcessRegressor                     0.81       0.81  45467.47   \n",
      "AdaBoostRegressor                            0.80       0.80  46523.04   \n",
      "GammaRegressor                               0.79       0.79  47498.17   \n",
      "LarsCV                                       0.78       0.79  48126.94   \n",
      "LassoLarsIC                                  0.78       0.79  48206.95   \n",
      "LassoCV                                      0.78       0.78  48401.06   \n",
      "SGDRegressor                                 0.78       0.78  48411.37   \n",
      "LassoLars                                    0.78       0.78  48420.02   \n",
      "LassoLarsCV                                  0.78       0.78  48437.95   \n",
      "BayesianRidge                                0.78       0.78  48443.36   \n",
      "Ridge                                        0.78       0.78  48462.16   \n",
      "RidgeCV                                      0.78       0.78  48462.16   \n",
      "Lasso                                        0.78       0.78  48471.19   \n",
      "Lars                                         0.78       0.78  48472.04   \n",
      "LinearRegression                             0.78       0.78  48472.04   \n",
      "TransformedTargetRegressor                   0.78       0.78  48472.04   \n",
      "ElasticNet                                   0.75       0.76  51449.71   \n",
      "TweedieRegressor                             0.72       0.72  54937.84   \n",
      "GeneralizedLinearRegressor                   0.72       0.72  54937.84   \n",
      "OrthogonalMatchingPursuitCV                  0.71       0.71  55738.25   \n",
      "HuberRegressor                               0.68       0.68  58828.42   \n",
      "PassiveAggressiveRegressor                   0.67       0.67  59871.49   \n",
      "RANSACRegressor                              0.61       0.62  64498.22   \n",
      "OrthogonalMatchingPursuit                    0.56       0.57  68524.96   \n",
      "ElasticNetCV                                 0.04       0.06 101399.82   \n",
      "DummyRegressor                              -0.02      -0.00 104449.21   \n",
      "NuSVR                                       -0.04      -0.02 105612.89   \n",
      "SVR                                         -0.10      -0.08 108411.96   \n",
      "KernelRidge                                 -0.34      -0.32 119817.11   \n",
      "MLPRegressor                                -0.82      -0.80 139940.46   \n",
      "LinearSVR                                   -1.05      -1.02 148469.71   \n",
      "\n",
      "                               Time Taken  \n",
      "Model                                      \n",
      "ExtraTreesRegressor                  2.83  \n",
      "GradientBoostingRegressor            1.74  \n",
      "RandomForestRegressor                5.25  \n",
      "HistGradientBoostingRegressor        1.36  \n",
      "LGBMRegressor                        0.20  \n",
      "BaggingRegressor                     0.44  \n",
      "XGBRegressor                         0.40  \n",
      "ExtraTreeRegressor                   0.05  \n",
      "KNeighborsRegressor                  0.35  \n",
      "DecisionTreeRegressor                0.10  \n",
      "PoissonRegressor                     0.11  \n",
      "GaussianProcessRegressor             4.65  \n",
      "AdaBoostRegressor                    0.61  \n",
      "GammaRegressor                       0.07  \n",
      "LarsCV                               0.08  \n",
      "LassoLarsIC                          0.04  \n",
      "LassoCV                              0.15  \n",
      "SGDRegressor                         0.08  \n",
      "LassoLars                            0.03  \n",
      "LassoLarsCV                          0.07  \n",
      "BayesianRidge                        0.04  \n",
      "Ridge                                0.05  \n",
      "RidgeCV                              0.03  \n",
      "Lasso                                0.04  \n",
      "Lars                                 0.04  \n",
      "LinearRegression                     0.03  \n",
      "TransformedTargetRegressor           0.03  \n",
      "ElasticNet                           0.05  \n",
      "TweedieRegressor                     0.06  \n",
      "GeneralizedLinearRegressor           0.06  \n",
      "OrthogonalMatchingPursuitCV          0.06  \n",
      "HuberRegressor                       0.10  \n",
      "PassiveAggressiveRegressor           0.38  \n",
      "RANSACRegressor                      0.11  \n",
      "OrthogonalMatchingPursuit            0.04  \n",
      "ElasticNetCV                         0.15  \n",
      "DummyRegressor                       0.02  \n",
      "NuSVR                                1.16  \n",
      "SVR                                  4.74  \n",
      "KernelRidge                          1.45  \n",
      "MLPRegressor                        14.09  \n",
      "LinearSVR                            0.02  \n"
     ]
    }
   ],
   "source": [
    "print(models)"
   ]
  },
  {
   "cell_type": "markdown",
   "metadata": {},
   "source": [
    "Extra Tree Regressor and Gradient Boosting Regressor performed best at basic level. We will tune this 2 model and see how they performed. As we are keeping all the outliers, we will use MAE as our evaluation metric.\n",
    "\n",
    "### Extra Trees Regressor"
   ]
  },
  {
   "cell_type": "code",
   "execution_count": 78,
   "metadata": {},
   "outputs": [
    {
     "data": {
      "text/plain": [
       "ExtraTreesRegressor(criterion='mae', random_state=31)"
      ]
     },
     "execution_count": 78,
     "metadata": {},
     "output_type": "execute_result"
    }
   ],
   "source": [
    "# we will set criterion to 'mae' as it is our evaluation metric \n",
    "\n",
    "regressor = ExtraTreesRegressor(random_state=31, criterion='mae')\n",
    "\n",
    "regressor.fit(X_train_scale, y_train)"
   ]
  },
  {
   "cell_type": "code",
   "execution_count": 79,
   "metadata": {},
   "outputs": [],
   "source": [
    "y_pred_et = regressor.predict(X_test_scale)"
   ]
  },
  {
   "cell_type": "code",
   "execution_count": 80,
   "metadata": {},
   "outputs": [
    {
     "name": "stdout",
     "output_type": "stream",
     "text": [
      "RMSE =  16218.794 \n",
      "MAE = 4387.097963671129 \n",
      "R2 = 0.9758394652803442\n"
     ]
    }
   ],
   "source": [
    "metric_score(y_test, y_pred_et)"
   ]
  },
  {
   "cell_type": "markdown",
   "metadata": {},
   "source": [
    "Tuning hyperparameter."
   ]
  },
  {
   "cell_type": "code",
   "execution_count": 81,
   "metadata": {},
   "outputs": [],
   "source": [
    "# set the hyperparameter for tuning\n",
    "para_grid_regressor = {'n_estimators':[100, 110, 120, 130, 140],\n",
    "                       'max_depth':[27, 30, 33, 36, 39],\n",
    "                       'min_samples_split':[1, 2, 3, 4, 5],\n",
    "                       'min_samples_leaf':[1, 2, 3, 4, 5],\n",
    "                       'max_features':['auto', 'sqrt', 'log2', None]}"
   ]
  },
  {
   "cell_type": "code",
   "execution_count": 82,
   "metadata": {},
   "outputs": [
    {
     "data": {
      "text/plain": [
       "GridSearchCV(estimator=ExtraTreesRegressor(random_state=31), n_jobs=-1,\n",
       "             param_grid={'max_depth': [27, 30, 33, 36, 39],\n",
       "                         'max_features': ['auto', 'sqrt', 'log2', None],\n",
       "                         'min_samples_leaf': [1, 2, 3, 4, 5],\n",
       "                         'min_samples_split': [1, 2, 3, 4, 5],\n",
       "                         'n_estimators': [100, 110, 120, 130, 140]})"
      ]
     },
     "execution_count": 82,
     "metadata": {},
     "output_type": "execute_result"
    }
   ],
   "source": [
    "grid_model_regressor = GridSearchCV(param_grid=para_grid_regressor, estimator=ExtraTreesRegressor(random_state=31),\n",
    "                                    n_jobs=-1)\n",
    "grid_model_regressor.fit(X_train_scale, y_train)"
   ]
  },
  {
   "cell_type": "code",
   "execution_count": 83,
   "metadata": {},
   "outputs": [
    {
     "data": {
      "text/plain": [
       "{'max_depth': 33,\n",
       " 'max_features': 'auto',\n",
       " 'min_samples_leaf': 1,\n",
       " 'min_samples_split': 3,\n",
       " 'n_estimators': 120}"
      ]
     },
     "execution_count": 83,
     "metadata": {},
     "output_type": "execute_result"
    }
   ],
   "source": [
    "grid_model_regressor.best_params_"
   ]
  },
  {
   "cell_type": "code",
   "execution_count": 84,
   "metadata": {},
   "outputs": [],
   "source": [
    "tune_model_et = ExtraTreesRegressor(max_depth=33, max_features='auto', min_samples_leaf=1, min_samples_split=3, \n",
    "                                 n_estimators=120, random_state=31, criterion='mae')"
   ]
  },
  {
   "cell_type": "code",
   "execution_count": 85,
   "metadata": {},
   "outputs": [
    {
     "data": {
      "text/plain": [
       "ExtraTreesRegressor(criterion='mae', max_depth=33, min_samples_split=3,\n",
       "                    n_estimators=120, random_state=31)"
      ]
     },
     "execution_count": 85,
     "metadata": {},
     "output_type": "execute_result"
    }
   ],
   "source": [
    "tune_model_et.fit(X_train_scale, y_train)"
   ]
  },
  {
   "cell_type": "code",
   "execution_count": 86,
   "metadata": {},
   "outputs": [],
   "source": [
    "y_pred_et_tuned = tune_model_et.predict(X_test_scale)"
   ]
  },
  {
   "cell_type": "code",
   "execution_count": 87,
   "metadata": {},
   "outputs": [
    {
     "name": "stdout",
     "output_type": "stream",
     "text": [
      "RMSE =  16334.472 \n",
      "MAE = 4425.405329827916 \n",
      "R2 = 0.9754935949828247\n"
     ]
    }
   ],
   "source": [
    "metric_score(y_test, y_pred_et_tuned)"
   ]
  },
  {
   "cell_type": "markdown",
   "metadata": {},
   "source": [
    "### Gradient Boosting Regressor"
   ]
  },
  {
   "cell_type": "code",
   "execution_count": 88,
   "metadata": {},
   "outputs": [
    {
     "data": {
      "text/plain": [
       "GradientBoostingRegressor(criterion='mae', random_state=31)"
      ]
     },
     "execution_count": 88,
     "metadata": {},
     "output_type": "execute_result"
    }
   ],
   "source": [
    "gbr = GradientBoostingRegressor(random_state=31, criterion='mae')\n",
    "\n",
    "gbr.fit(X_train_scale, y_train)"
   ]
  },
  {
   "cell_type": "code",
   "execution_count": 89,
   "metadata": {},
   "outputs": [],
   "source": [
    "y_pred_gbr = gbr.predict(X_test_scale)"
   ]
  },
  {
   "cell_type": "code",
   "execution_count": 90,
   "metadata": {},
   "outputs": [
    {
     "name": "stdout",
     "output_type": "stream",
     "text": [
      "RMSE =  21069.259 \n",
      "MAE = 7033.214264894143 \n",
      "R2 = 0.9592274429124658\n"
     ]
    }
   ],
   "source": [
    "metric_score(y_test, y_pred_gbr)"
   ]
  },
  {
   "cell_type": "markdown",
   "metadata": {},
   "source": [
    "Tuning hyperparameter."
   ]
  },
  {
   "cell_type": "code",
   "execution_count": 91,
   "metadata": {},
   "outputs": [],
   "source": [
    "para_grid_regressor = {'n_estimators':[800, 850, 900, 950, 1000],           # set the hyperparameters value\n",
    "                       'max_depth':[3, 5, 7, 9, 11],\n",
    "                       'learning_rate':[0.05, 0.1, 0.15, 0.2, 0.25]}\n",
    "                       "
   ]
  },
  {
   "cell_type": "code",
   "execution_count": 92,
   "metadata": {},
   "outputs": [
    {
     "data": {
      "text/plain": [
       "GridSearchCV(estimator=GradientBoostingRegressor(random_state=31), n_jobs=-1,\n",
       "             param_grid={'learning_rate': [0.05, 0.1, 0.15, 0.2, 0.25],\n",
       "                         'max_depth': [3, 5, 7, 9, 11],\n",
       "                         'n_estimators': [800, 850, 900, 950, 1000]})"
      ]
     },
     "execution_count": 92,
     "metadata": {},
     "output_type": "execute_result"
    }
   ],
   "source": [
    "grid_model_regressor = GridSearchCV(param_grid=para_grid_regressor, estimator=GradientBoostingRegressor(random_state=31),\n",
    "                                    n_jobs=-1)\n",
    "grid_model_regressor.fit(X_train_scale, y_train)"
   ]
  },
  {
   "cell_type": "code",
   "execution_count": 93,
   "metadata": {},
   "outputs": [
    {
     "data": {
      "text/plain": [
       "{'learning_rate': 0.1, 'max_depth': 5, 'n_estimators': 1000}"
      ]
     },
     "execution_count": 93,
     "metadata": {},
     "output_type": "execute_result"
    }
   ],
   "source": [
    "grid_model_regressor.best_params_"
   ]
  },
  {
   "cell_type": "markdown",
   "metadata": {},
   "source": [
    "Seems like the n_estimators can still increase. But after testing, the MAE score only improve by 1. So we will stop at 1000. Now we will tune other papameters."
   ]
  },
  {
   "cell_type": "code",
   "execution_count": 94,
   "metadata": {},
   "outputs": [],
   "source": [
    "para_grid_regressor2 = {'min_samples_split':[6, 7, 8, 9, 10],\n",
    "                       'min_samples_leaf':[1, 2, 3, 4, 5],\n",
    "                       'max_features':['auto', 'sqrt', 'log2', None]}"
   ]
  },
  {
   "cell_type": "code",
   "execution_count": 95,
   "metadata": {},
   "outputs": [],
   "source": [
    "grid_model_regressor2 = GridSearchCV(param_grid=para_grid_regressor2, \n",
    "                                     estimator=GradientBoostingRegressor(max_depth=5, n_estimators=1000, \n",
    "                                                                         random_state=31,learning_rate=0.1), \n",
    "                                     n_jobs=-1)"
   ]
  },
  {
   "cell_type": "code",
   "execution_count": 96,
   "metadata": {},
   "outputs": [
    {
     "data": {
      "text/plain": [
       "GridSearchCV(estimator=GradientBoostingRegressor(max_depth=5, n_estimators=1000,\n",
       "                                                 random_state=31),\n",
       "             n_jobs=-1,\n",
       "             param_grid={'max_features': ['auto', 'sqrt', 'log2', None],\n",
       "                         'min_samples_leaf': [1, 2, 3, 4, 5],\n",
       "                         'min_samples_split': [6, 7, 8, 9, 10]})"
      ]
     },
     "execution_count": 96,
     "metadata": {},
     "output_type": "execute_result"
    }
   ],
   "source": [
    "grid_model_regressor2.fit(X_train_scale, y_train)"
   ]
  },
  {
   "cell_type": "code",
   "execution_count": 97,
   "metadata": {},
   "outputs": [
    {
     "data": {
      "text/plain": [
       "{'max_features': 'auto', 'min_samples_leaf': 1, 'min_samples_split': 6}"
      ]
     },
     "execution_count": 97,
     "metadata": {},
     "output_type": "execute_result"
    }
   ],
   "source": [
    "grid_model_regressor2.best_params_"
   ]
  },
  {
   "cell_type": "markdown",
   "metadata": {},
   "source": [
    "Plug all best parameters value in and train."
   ]
  },
  {
   "cell_type": "code",
   "execution_count": 98,
   "metadata": {},
   "outputs": [],
   "source": [
    "tune_model_gbr = GradientBoostingRegressor(max_depth=5, n_estimators=1000, random_state=31, criterion='mae', \n",
    "                                           learning_rate=0.1, max_features='auto', min_samples_leaf=1, min_samples_split=6)"
   ]
  },
  {
   "cell_type": "code",
   "execution_count": 99,
   "metadata": {},
   "outputs": [
    {
     "data": {
      "text/plain": [
       "GradientBoostingRegressor(criterion='mae', max_depth=5, max_features='auto',\n",
       "                          min_samples_split=6, n_estimators=1000,\n",
       "                          random_state=31)"
      ]
     },
     "execution_count": 99,
     "metadata": {},
     "output_type": "execute_result"
    }
   ],
   "source": [
    "tune_model_gbr.fit(X_train_scale, y_train)"
   ]
  },
  {
   "cell_type": "code",
   "execution_count": 100,
   "metadata": {},
   "outputs": [],
   "source": [
    "y_pred_gbr_tuned = tune_model_gbr.predict(X_test_scale)"
   ]
  },
  {
   "cell_type": "code",
   "execution_count": 101,
   "metadata": {},
   "outputs": [
    {
     "name": "stdout",
     "output_type": "stream",
     "text": [
      "RMSE =  20454.419 \n",
      "MAE = 5209.7394058234795 \n",
      "R2 = 0.9615723602036974\n"
     ]
    }
   ],
   "source": [
    "metric_score(y_test, y_pred_gbr_tuned)"
   ]
  },
  {
   "cell_type": "markdown",
   "metadata": {},
   "source": [
    "Compare all results"
   ]
  },
  {
   "cell_type": "code",
   "execution_count": 102,
   "metadata": {},
   "outputs": [],
   "source": [
    "model = {'ExtraTrees_base':[rmse[0], mae[0], r_2[0]], 'ExtraTress_tuned':[rmse[1], mae[1], r_2[1]], \n",
    "         'GradientBoosting_base':[rmse[2], mae[2], r_2[2]], 'GradientBoosting_tuned':[rmse[3], mae[3], r_2[3]]}"
   ]
  },
  {
   "cell_type": "code",
   "execution_count": 103,
   "metadata": {},
   "outputs": [
    {
     "data": {
      "text/html": [
       "<div>\n",
       "<style scoped>\n",
       "    .dataframe tbody tr th:only-of-type {\n",
       "        vertical-align: middle;\n",
       "    }\n",
       "\n",
       "    .dataframe tbody tr th {\n",
       "        vertical-align: top;\n",
       "    }\n",
       "\n",
       "    .dataframe thead th {\n",
       "        text-align: right;\n",
       "    }\n",
       "</style>\n",
       "<table border=\"1\" class=\"dataframe\">\n",
       "  <thead>\n",
       "    <tr style=\"text-align: right;\">\n",
       "      <th></th>\n",
       "      <th>ExtraTrees_base</th>\n",
       "      <th>ExtraTress_tuned</th>\n",
       "      <th>GradientBoosting_base</th>\n",
       "      <th>GradientBoosting_tuned</th>\n",
       "    </tr>\n",
       "  </thead>\n",
       "  <tbody>\n",
       "    <tr>\n",
       "      <th>RMSE</th>\n",
       "      <td>16218.79</td>\n",
       "      <td>16334.47</td>\n",
       "      <td>21069.26</td>\n",
       "      <td>20454.42</td>\n",
       "    </tr>\n",
       "    <tr>\n",
       "      <th>MAE</th>\n",
       "      <td>4387.10</td>\n",
       "      <td>4425.41</td>\n",
       "      <td>7033.21</td>\n",
       "      <td>5209.74</td>\n",
       "    </tr>\n",
       "    <tr>\n",
       "      <th>R2</th>\n",
       "      <td>0.98</td>\n",
       "      <td>0.98</td>\n",
       "      <td>0.96</td>\n",
       "      <td>0.96</td>\n",
       "    </tr>\n",
       "  </tbody>\n",
       "</table>\n",
       "</div>"
      ],
      "text/plain": [
       "      ExtraTrees_base  ExtraTress_tuned  GradientBoosting_base  \\\n",
       "RMSE         16218.79          16334.47               21069.26   \n",
       "MAE           4387.10           4425.41                7033.21   \n",
       "R2               0.98              0.98                   0.96   \n",
       "\n",
       "      GradientBoosting_tuned  \n",
       "RMSE                20454.42  \n",
       "MAE                  5209.74  \n",
       "R2                      0.96  "
      ]
     },
     "execution_count": 103,
     "metadata": {},
     "output_type": "execute_result"
    }
   ],
   "source": [
    "df_model = pd.DataFrame(model, index=['RMSE', 'MAE', 'R2'])\n",
    "\n",
    "df_model"
   ]
  },
  {
   "cell_type": "markdown",
   "metadata": {},
   "source": [
    "From the results, The basic Extra Tree Regressor will be our final model since it has the smallest MAE (average difference between the actual and predicted value)."
   ]
  },
  {
   "cell_type": "code",
   "execution_count": 104,
   "metadata": {},
   "outputs": [
    {
     "data": {
      "text/plain": [
       "3.2480697522324826"
      ]
     },
     "execution_count": 104,
     "metadata": {},
     "output_type": "execute_result"
    }
   ],
   "source": [
    "# calculate the mean absolute percentage error (mape)\n",
    "np.mean(np.abs((y_test-y_pred_et)/y_test))*100"
   ]
  },
  {
   "cell_type": "markdown",
   "metadata": {},
   "source": [
    "### Conclusion\n",
    "\n",
    "We got a model that can predict the selling price with Mean Absolute Percentage Error (MAPE) of 3.25% which we are quite satified. As having a car is a costly expenses in Singapore with lots of hidden cost like insurance, road tax and maintenance. With this model, buyers can estimate the price of the car that they are interested in to decide if the car is worth the price that are advertised and work their budget from there."
   ]
  },
  {
   "cell_type": "code",
   "execution_count": null,
   "metadata": {},
   "outputs": [],
   "source": []
  }
 ],
 "metadata": {
  "kernelspec": {
   "display_name": "Python 3",
   "language": "python",
   "name": "python3"
  },
  "language_info": {
   "codemirror_mode": {
    "name": "ipython",
    "version": 3
   },
   "file_extension": ".py",
   "mimetype": "text/x-python",
   "name": "python",
   "nbconvert_exporter": "python",
   "pygments_lexer": "ipython3",
   "version": "3.8.5"
  }
 },
 "nbformat": 4,
 "nbformat_minor": 4
}
