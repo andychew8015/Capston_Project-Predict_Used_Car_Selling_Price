{
 "cells": [
  {
   "cell_type": "code",
   "execution_count": 1,
   "metadata": {},
   "outputs": [],
   "source": [
    "from selenium import webdriver\n",
    "from selenium.common import exceptions \n",
    "from webdriver_manager.chrome import ChromeDriverManager\n",
    "import pandas as pd\n",
    "import numpy as np\n",
    "import time"
   ]
  },
  {
   "cell_type": "markdown",
   "metadata": {},
   "source": [
    "Create the driver"
   ]
  },
  {
   "cell_type": "code",
   "execution_count": 2,
   "metadata": {},
   "outputs": [
    {
     "name": "stderr",
     "output_type": "stream",
     "text": [
      "[WDM] - ====== WebDriver manager ======\n",
      "[WDM] - Current google-chrome version is 90.0.4430\n",
      "[WDM] - Get LATEST driver version for 90.0.4430\n",
      "[WDM] - Driver [C:\\Users\\andy\\.wdm\\drivers\\chromedriver\\win32\\90.0.4430.24\\chromedriver.exe] found in cache\n"
     ]
    },
    {
     "name": "stdout",
     "output_type": "stream",
     "text": [
      "\n",
      "\n"
     ]
    },
    {
     "name": "stderr",
     "output_type": "stream",
     "text": [
      "<ipython-input-2-c585ef9f7201>:4: DeprecationWarning: use options instead of chrome_options\n",
      "  driver = webdriver.Chrome(ChromeDriverManager().install(), chrome_options=options)\n"
     ]
    }
   ],
   "source": [
    "options = webdriver.ChromeOptions()\n",
    "options.add_argument('--ignore-certificate-errors')\n",
    "options.add_argument('--incognito')\n",
    "driver = webdriver.Chrome(ChromeDriverManager().install(), chrome_options=options)\n",
    "\n",
    "# options = webdriver.ChromeOptions()\n",
    "# options.add_argument('--ignore-certificate-errors')\n",
    "# options.add_argument('--incognito')\n",
    "# driver = webdriver.Chrome(ChromeDriverManager().install(), chrome_options=options)\n",
    "\n",
    "# driver.get('https://www.stcars.sg/singapore-car/used-cars/toyota-alphard-25a-s-moonroof-a983714/overview')"
   ]
  },
  {
   "cell_type": "markdown",
   "metadata": {},
   "source": [
    "Get the URL of the wedsite and create lists to store the values"
   ]
  },
  {
   "cell_type": "code",
   "execution_count": 3,
   "metadata": {},
   "outputs": [],
   "source": [
    "url = 'https://www.stcars.sg/singapore-car/used-cars/search/pageSize20/page'\n",
    "value = []\n",
    "make_model = []\n",
    "pages = []\n",
    "con = ['Imported Used', 'Consignment', 'OPC']"
   ]
  },
  {
   "cell_type": "code",
   "execution_count": 4,
   "metadata": {},
   "outputs": [],
   "source": [
    "driver.get(url + str(1))"
   ]
  },
  {
   "cell_type": "code",
   "execution_count": 5,
   "metadata": {},
   "outputs": [],
   "source": [
    "col = driver.find_elements_by_xpath('//*[@id=\"car_listing\"]/table[2]/tbody/tr[1]/td/div[1]/a')\n",
    "col[0].click()"
   ]
  },
  {
   "cell_type": "markdown",
   "metadata": {},
   "source": [
    "Get the features name"
   ]
  },
  {
   "cell_type": "code",
   "execution_count": 6,
   "metadata": {},
   "outputs": [],
   "source": [
    "elem_2 = driver.find_elements_by_tag_name('th')"
   ]
  },
  {
   "cell_type": "code",
   "execution_count": 7,
   "metadata": {},
   "outputs": [
    {
     "data": {
      "text/plain": [
       "['Price',\n",
       " 'Registration Date',\n",
       " 'COE Remaining',\n",
       " 'Manufactured',\n",
       " 'Mileage',\n",
       " 'No. of Owners',\n",
       " 'Transmission',\n",
       " 'Engine Capacity',\n",
       " 'COE',\n",
       " 'OMV',\n",
       " 'Paper Value',\n",
       " 'Depreciation',\n",
       " 'Type']"
      ]
     },
     "execution_count": 7,
     "metadata": {},
     "output_type": "execute_result"
    }
   ],
   "source": [
    "feature = []\n",
    "for i in range(len(elem_2)):\n",
    "    feature.append(elem_2[i].text)\n",
    "feature = feature[:13]\n",
    "\n",
    "feature"
   ]
  },
  {
   "cell_type": "markdown",
   "metadata": {},
   "source": [
    "Insert extra feature"
   ]
  },
  {
   "cell_type": "code",
   "execution_count": 8,
   "metadata": {},
   "outputs": [],
   "source": [
    "feature.insert(8, 'fuel_type')"
   ]
  },
  {
   "cell_type": "code",
   "execution_count": 9,
   "metadata": {
    "scrolled": true
   },
   "outputs": [
    {
     "data": {
      "text/plain": [
       "['Price',\n",
       " 'Registration Date',\n",
       " 'COE Remaining',\n",
       " 'Manufactured',\n",
       " 'Mileage',\n",
       " 'No. of Owners',\n",
       " 'Transmission',\n",
       " 'Engine Capacity',\n",
       " 'fuel_type',\n",
       " 'COE',\n",
       " 'OMV',\n",
       " 'Paper Value',\n",
       " 'Depreciation',\n",
       " 'Type']"
      ]
     },
     "execution_count": 9,
     "metadata": {},
     "output_type": "execute_result"
    }
   ],
   "source": [
    "feature"
   ]
  },
  {
   "cell_type": "markdown",
   "metadata": {},
   "source": [
    "Start scraping the website"
   ]
  },
  {
   "cell_type": "code",
   "execution_count": 13,
   "metadata": {},
   "outputs": [],
   "source": [
    "for page in range(413, 1, -1):      # starting from the last page (if encounter auto shutdown, refer back to the data\n",
    "    driver.get(url + str(page))     # we save and see what is the latest page and continue from there)\n",
    "    \n",
    "    for i in range(1, 21):\n",
    "        try:\n",
    "            xpath = '//*[@id=\"car_listing\"]/table[{}]/tbody/tr[1]/td/div[1]/a'.format(i)\n",
    "            car = driver.find_elements_by_xpath(xpath)\n",
    "            time.sleep(2)\n",
    "            car[0].click()\n",
    "        except:\n",
    "            continue\n",
    "        \n",
    "        img = driver.find_elements_by_tag_name('img')\n",
    "        if len(img) > 4:\n",
    "            if img[3].get_attribute('alt') not in con:\n",
    "                model = driver.find_elements_by_tag_name('h1')\n",
    "                data = driver.find_elements_by_tag_name('td')\n",
    "            temp = []\n",
    "            for item in range(len(data)):\n",
    "                try:\n",
    "                    data[item].text != ''\n",
    "                except exceptions.StaleElementReferenceException as e:\n",
    "                    driver.back()\n",
    "                    break\n",
    "                if data[item].text != '':\n",
    "                    temp.append(data[item].text)\n",
    "                temp_1 = temp[:17]\n",
    "                temp.clear()\n",
    "                [temp.append(v) for v in temp_1 if v not in temp]\n",
    "            if len(temp) != 0:\n",
    "                if '$' in temp[8] or '-' in temp[8]:\n",
    "                    if temp[8] != 'Petrol-Electric':\n",
    "                        temp.insert(8, np.nan)\n",
    "                    \n",
    "                make_model.append(model[0].text)\n",
    "                value.append(temp[:14])\n",
    "                pages.append(page)\n",
    "            \n",
    "        time.sleep(5)\n",
    "        driver.back()\n",
    "    \n",
    "    df = pd.DataFrame(value, columns=feature)\n",
    "    df.insert(0, 'make_model', make_model)\n",
    "    df.insert(0, 'page', page)\n",
    "    df.to_csv('Used Car 1.csv', index=False)\n",
    "        \n",
    "driver.close()"
   ]
  },
  {
   "cell_type": "code",
   "execution_count": null,
   "metadata": {},
   "outputs": [],
   "source": []
  }
 ],
 "metadata": {
  "kernelspec": {
   "display_name": "Python 3",
   "language": "python",
   "name": "python3"
  },
  "language_info": {
   "codemirror_mode": {
    "name": "ipython",
    "version": 3
   },
   "file_extension": ".py",
   "mimetype": "text/x-python",
   "name": "python",
   "nbconvert_exporter": "python",
   "pygments_lexer": "ipython3",
   "version": "3.8.5"
  }
 },
 "nbformat": 4,
 "nbformat_minor": 4
}
